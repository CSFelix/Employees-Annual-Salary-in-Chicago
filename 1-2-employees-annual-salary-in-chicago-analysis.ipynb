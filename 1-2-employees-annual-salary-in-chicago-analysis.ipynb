{
 "cells": [
  {
   "cell_type": "markdown",
   "id": "1b477dc6",
   "metadata": {
    "papermill": {
     "duration": 0.017679,
     "end_time": "2022-06-08T20:39:11.819162",
     "exception": false,
     "start_time": "2022-06-08T20:39:11.801483",
     "status": "completed"
    },
    "tags": []
   },
   "source": [
    "<h1 align=\"center\" style=\"color:blue\">🧑‍💼 Exploratory Analysis: Employees' Annual Salary in Chicago 🧑‍💼</h1>\n",
    "\n",
    "<p>Howdy 👋👋, in this notebook I made some Exploratory Analysis of my dataset \n",
    "    <a href=\"https://www.kaggle.com/datasets/dsfelix/employees-annual-salary-in-chicago\">Employees' Annual Salary in Chicago</a>.</p>\n",
    "\n",
    "<p>My goals in this analysis are:</p>\n",
    "\n",
    "* Find out the 5 most paid workers;\n",
    "* Find out the 5 less paid workers;\n",
    "* Find out the 5 most paid job titles (avg);\n",
    "* Find out the 5 less paid job titles (avg);\n",
    "* Find out the avg Annual and Monthly Salary; (Salary/Mothly only)\n",
    "* Create a Variable Correlation plot;\n",
    "* Scatter Plot of the Relationship between thee Variables.\n",
    "\n",
    "<p>I'm still a newbie in Data Science and I know that there are a huge other things that I can do in Exploratory Analysis, but I think this a good starter hehehe.</p>\n",
    "\n",
    "<p>Share your thoughts about the notebook and the dataset, such as ways to improve, tips and other cool things I could be doing in the Analisis. It'll be so helpfull 😀😀</p>"
   ]
  },
  {
   "cell_type": "code",
   "execution_count": 1,
   "id": "bca73061",
   "metadata": {
    "execution": {
     "iopub.execute_input": "2022-06-08T20:39:11.852434Z",
     "iopub.status.busy": "2022-06-08T20:39:11.851812Z",
     "iopub.status.idle": "2022-06-08T20:39:13.040140Z",
     "shell.execute_reply": "2022-06-08T20:39:13.038964Z"
    },
    "papermill": {
     "duration": 1.20833,
     "end_time": "2022-06-08T20:39:13.042720",
     "exception": false,
     "start_time": "2022-06-08T20:39:11.834390",
     "status": "completed"
    },
    "tags": []
   },
   "outputs": [],
   "source": [
    "import pandas as pd\n",
    "import matplotlib.pyplot as plt\n",
    "import seaborn as sns\n",
    "import numpy as np"
   ]
  },
  {
   "cell_type": "code",
   "execution_count": 2,
   "id": "74e3ddad",
   "metadata": {
    "execution": {
     "iopub.execute_input": "2022-06-08T20:39:13.075826Z",
     "iopub.status.busy": "2022-06-08T20:39:13.075393Z",
     "iopub.status.idle": "2022-06-08T20:39:13.206510Z",
     "shell.execute_reply": "2022-06-08T20:39:13.205224Z"
    },
    "papermill": {
     "duration": 0.15045,
     "end_time": "2022-06-08T20:39:13.209091",
     "exception": false,
     "start_time": "2022-06-08T20:39:13.058641",
     "status": "completed"
    },
    "tags": []
   },
   "outputs": [
    {
     "data": {
      "text/html": [
       "<div>\n",
       "<style scoped>\n",
       "    .dataframe tbody tr th:only-of-type {\n",
       "        vertical-align: middle;\n",
       "    }\n",
       "\n",
       "    .dataframe tbody tr th {\n",
       "        vertical-align: top;\n",
       "    }\n",
       "\n",
       "    .dataframe thead th {\n",
       "        text-align: right;\n",
       "    }\n",
       "</style>\n",
       "<table border=\"1\" class=\"dataframe\">\n",
       "  <thead>\n",
       "    <tr style=\"text-align: right;\">\n",
       "      <th></th>\n",
       "      <th>Name</th>\n",
       "      <th>Job Titles</th>\n",
       "      <th>Department</th>\n",
       "      <th>Full or Part-Time</th>\n",
       "      <th>Salary or Hourly</th>\n",
       "      <th>Typical Hours</th>\n",
       "      <th>Annual Salary</th>\n",
       "      <th>Hourly Rate</th>\n",
       "    </tr>\n",
       "  </thead>\n",
       "  <tbody>\n",
       "    <tr>\n",
       "      <th>0</th>\n",
       "      <td>AARON,  JEFFERY M</td>\n",
       "      <td>SERGEANT</td>\n",
       "      <td>POLICE</td>\n",
       "      <td>F</td>\n",
       "      <td>Salary</td>\n",
       "      <td>NaN</td>\n",
       "      <td>122568.0</td>\n",
       "      <td>NaN</td>\n",
       "    </tr>\n",
       "    <tr>\n",
       "      <th>1</th>\n",
       "      <td>AARON,  KARINA</td>\n",
       "      <td>POLICE OFFICER (ASSIGNED AS DETECTIVE)</td>\n",
       "      <td>POLICE</td>\n",
       "      <td>F</td>\n",
       "      <td>Salary</td>\n",
       "      <td>NaN</td>\n",
       "      <td>110796.0</td>\n",
       "      <td>NaN</td>\n",
       "    </tr>\n",
       "    <tr>\n",
       "      <th>2</th>\n",
       "      <td>ABAD JR,  VICENTE M</td>\n",
       "      <td>CIVIL ENGINEER IV</td>\n",
       "      <td>WATER MGMNT</td>\n",
       "      <td>F</td>\n",
       "      <td>Salary</td>\n",
       "      <td>NaN</td>\n",
       "      <td>122112.0</td>\n",
       "      <td>NaN</td>\n",
       "    </tr>\n",
       "    <tr>\n",
       "      <th>3</th>\n",
       "      <td>ABARCA,  EMMANUEL</td>\n",
       "      <td>CONCRETE LABORER</td>\n",
       "      <td>TRANSPORTN</td>\n",
       "      <td>F</td>\n",
       "      <td>Hourly</td>\n",
       "      <td>40.0</td>\n",
       "      <td>NaN</td>\n",
       "      <td>45.9</td>\n",
       "    </tr>\n",
       "    <tr>\n",
       "      <th>4</th>\n",
       "      <td>ABARCA,  FRANCES J</td>\n",
       "      <td>POLICE OFFICER</td>\n",
       "      <td>POLICE</td>\n",
       "      <td>F</td>\n",
       "      <td>Salary</td>\n",
       "      <td>NaN</td>\n",
       "      <td>86730.0</td>\n",
       "      <td>NaN</td>\n",
       "    </tr>\n",
       "    <tr>\n",
       "      <th>...</th>\n",
       "      <td>...</td>\n",
       "      <td>...</td>\n",
       "      <td>...</td>\n",
       "      <td>...</td>\n",
       "      <td>...</td>\n",
       "      <td>...</td>\n",
       "      <td>...</td>\n",
       "      <td>...</td>\n",
       "    </tr>\n",
       "    <tr>\n",
       "      <th>31096</th>\n",
       "      <td>ZYLINSKA,  KLAUDIA</td>\n",
       "      <td>POLICE OFFICER</td>\n",
       "      <td>POLICE</td>\n",
       "      <td>F</td>\n",
       "      <td>Salary</td>\n",
       "      <td>NaN</td>\n",
       "      <td>90990.0</td>\n",
       "      <td>NaN</td>\n",
       "    </tr>\n",
       "    <tr>\n",
       "      <th>31097</th>\n",
       "      <td>ZYMANTAS,  LAURA C</td>\n",
       "      <td>POLICE OFFICER</td>\n",
       "      <td>POLICE</td>\n",
       "      <td>F</td>\n",
       "      <td>Salary</td>\n",
       "      <td>NaN</td>\n",
       "      <td>95586.0</td>\n",
       "      <td>NaN</td>\n",
       "    </tr>\n",
       "    <tr>\n",
       "      <th>31098</th>\n",
       "      <td>ZYMANTAS,  MARK E</td>\n",
       "      <td>POLICE OFFICER</td>\n",
       "      <td>POLICE</td>\n",
       "      <td>F</td>\n",
       "      <td>Salary</td>\n",
       "      <td>NaN</td>\n",
       "      <td>102372.0</td>\n",
       "      <td>NaN</td>\n",
       "    </tr>\n",
       "    <tr>\n",
       "      <th>31099</th>\n",
       "      <td>ZYRKOWSKI,  CARLO E</td>\n",
       "      <td>POLICE OFFICER</td>\n",
       "      <td>POLICE</td>\n",
       "      <td>F</td>\n",
       "      <td>Salary</td>\n",
       "      <td>NaN</td>\n",
       "      <td>109236.0</td>\n",
       "      <td>NaN</td>\n",
       "    </tr>\n",
       "    <tr>\n",
       "      <th>31100</th>\n",
       "      <td>ZYSKOWSKI,  DARIUSZ</td>\n",
       "      <td>CHIEF DATA BASE ANALYST</td>\n",
       "      <td>DAIS</td>\n",
       "      <td>F</td>\n",
       "      <td>Salary</td>\n",
       "      <td>NaN</td>\n",
       "      <td>142176.0</td>\n",
       "      <td>NaN</td>\n",
       "    </tr>\n",
       "  </tbody>\n",
       "</table>\n",
       "<p>31101 rows × 8 columns</p>\n",
       "</div>"
      ],
      "text/plain": [
       "                      Name                              Job Titles  \\\n",
       "0        AARON,  JEFFERY M                                SERGEANT   \n",
       "1           AARON,  KARINA  POLICE OFFICER (ASSIGNED AS DETECTIVE)   \n",
       "2      ABAD JR,  VICENTE M                       CIVIL ENGINEER IV   \n",
       "3        ABARCA,  EMMANUEL                        CONCRETE LABORER   \n",
       "4       ABARCA,  FRANCES J                          POLICE OFFICER   \n",
       "...                    ...                                     ...   \n",
       "31096   ZYLINSKA,  KLAUDIA                          POLICE OFFICER   \n",
       "31097   ZYMANTAS,  LAURA C                          POLICE OFFICER   \n",
       "31098    ZYMANTAS,  MARK E                          POLICE OFFICER   \n",
       "31099  ZYRKOWSKI,  CARLO E                          POLICE OFFICER   \n",
       "31100  ZYSKOWSKI,  DARIUSZ                 CHIEF DATA BASE ANALYST   \n",
       "\n",
       "        Department Full or Part-Time Salary or Hourly  Typical Hours  \\\n",
       "0           POLICE                 F           Salary            NaN   \n",
       "1           POLICE                 F           Salary            NaN   \n",
       "2      WATER MGMNT                 F           Salary            NaN   \n",
       "3       TRANSPORTN                 F           Hourly           40.0   \n",
       "4           POLICE                 F           Salary            NaN   \n",
       "...            ...               ...              ...            ...   \n",
       "31096       POLICE                 F           Salary            NaN   \n",
       "31097       POLICE                 F           Salary            NaN   \n",
       "31098       POLICE                 F           Salary            NaN   \n",
       "31099       POLICE                 F           Salary            NaN   \n",
       "31100         DAIS                 F           Salary            NaN   \n",
       "\n",
       "       Annual Salary  Hourly Rate  \n",
       "0           122568.0          NaN  \n",
       "1           110796.0          NaN  \n",
       "2           122112.0          NaN  \n",
       "3                NaN         45.9  \n",
       "4            86730.0          NaN  \n",
       "...              ...          ...  \n",
       "31096        90990.0          NaN  \n",
       "31097        95586.0          NaN  \n",
       "31098       102372.0          NaN  \n",
       "31099       109236.0          NaN  \n",
       "31100       142176.0          NaN  \n",
       "\n",
       "[31101 rows x 8 columns]"
      ]
     },
     "execution_count": 2,
     "metadata": {},
     "output_type": "execute_result"
    }
   ],
   "source": [
    "# Reading the dataset and getting a overview\n",
    "original_df = pd.read_csv('../input/employees-annual-salary-in-chicago/salary.csv')\n",
    "original_df"
   ]
  },
  {
   "cell_type": "markdown",
   "id": "e9043dd9",
   "metadata": {
    "papermill": {
     "duration": 0.015314,
     "end_time": "2022-06-08T20:39:13.240107",
     "exception": false,
     "start_time": "2022-06-08T20:39:13.224793",
     "status": "completed"
    },
    "tags": []
   },
   "source": [
    "In order to make the analysis easier, let's split the dataset into two: <b>salary</b> and <b>hourly</b> one. To these two datasets, we will need the following columns:\n",
    "\n",
    "* <b>Salary</b>: <i>name, job titles, department, full or part-time and annual salary;</i>\n",
    "* <b>Hourly</b>: <i>name, job titles, department, full or part-time, typical hours and hourly rate.</i>"
   ]
  },
  {
   "cell_type": "code",
   "execution_count": 3,
   "id": "6530939c",
   "metadata": {
    "execution": {
     "iopub.execute_input": "2022-06-08T20:39:13.274610Z",
     "iopub.status.busy": "2022-06-08T20:39:13.273453Z",
     "iopub.status.idle": "2022-06-08T20:39:13.314757Z",
     "shell.execute_reply": "2022-06-08T20:39:13.312821Z"
    },
    "papermill": {
     "duration": 0.061273,
     "end_time": "2022-06-08T20:39:13.316950",
     "exception": false,
     "start_time": "2022-06-08T20:39:13.255677",
     "status": "completed"
    },
    "tags": []
   },
   "outputs": [
    {
     "name": "stdout",
     "output_type": "stream",
     "text": [
      "Number of Employees:  24287\n"
     ]
    },
    {
     "data": {
      "text/html": [
       "<div>\n",
       "<style scoped>\n",
       "    .dataframe tbody tr th:only-of-type {\n",
       "        vertical-align: middle;\n",
       "    }\n",
       "\n",
       "    .dataframe tbody tr th {\n",
       "        vertical-align: top;\n",
       "    }\n",
       "\n",
       "    .dataframe thead th {\n",
       "        text-align: right;\n",
       "    }\n",
       "</style>\n",
       "<table border=\"1\" class=\"dataframe\">\n",
       "  <thead>\n",
       "    <tr style=\"text-align: right;\">\n",
       "      <th></th>\n",
       "      <th>Name</th>\n",
       "      <th>Job Titles</th>\n",
       "      <th>Department</th>\n",
       "      <th>Full or Part-Time</th>\n",
       "      <th>Annual Salary</th>\n",
       "    </tr>\n",
       "  </thead>\n",
       "  <tbody>\n",
       "    <tr>\n",
       "      <th>0</th>\n",
       "      <td>AARON,  JEFFERY M</td>\n",
       "      <td>SERGEANT</td>\n",
       "      <td>POLICE</td>\n",
       "      <td>F</td>\n",
       "      <td>122568.0</td>\n",
       "    </tr>\n",
       "    <tr>\n",
       "      <th>1</th>\n",
       "      <td>AARON,  KARINA</td>\n",
       "      <td>POLICE OFFICER (ASSIGNED AS DETECTIVE)</td>\n",
       "      <td>POLICE</td>\n",
       "      <td>F</td>\n",
       "      <td>110796.0</td>\n",
       "    </tr>\n",
       "    <tr>\n",
       "      <th>2</th>\n",
       "      <td>ABAD JR,  VICENTE M</td>\n",
       "      <td>CIVIL ENGINEER IV</td>\n",
       "      <td>WATER MGMNT</td>\n",
       "      <td>F</td>\n",
       "      <td>122112.0</td>\n",
       "    </tr>\n",
       "    <tr>\n",
       "      <th>4</th>\n",
       "      <td>ABARCA,  FRANCES J</td>\n",
       "      <td>POLICE OFFICER</td>\n",
       "      <td>POLICE</td>\n",
       "      <td>F</td>\n",
       "      <td>86730.0</td>\n",
       "    </tr>\n",
       "    <tr>\n",
       "      <th>6</th>\n",
       "      <td>ABBATEMARCO,  JAMES J</td>\n",
       "      <td>FIRE ENGINEER-EMT</td>\n",
       "      <td>FIRE</td>\n",
       "      <td>F</td>\n",
       "      <td>118830.0</td>\n",
       "    </tr>\n",
       "  </tbody>\n",
       "</table>\n",
       "</div>"
      ],
      "text/plain": [
       "                    Name                              Job Titles   Department  \\\n",
       "0      AARON,  JEFFERY M                                SERGEANT       POLICE   \n",
       "1         AARON,  KARINA  POLICE OFFICER (ASSIGNED AS DETECTIVE)       POLICE   \n",
       "2    ABAD JR,  VICENTE M                       CIVIL ENGINEER IV  WATER MGMNT   \n",
       "4     ABARCA,  FRANCES J                          POLICE OFFICER       POLICE   \n",
       "6  ABBATEMARCO,  JAMES J                       FIRE ENGINEER-EMT         FIRE   \n",
       "\n",
       "  Full or Part-Time  Annual Salary  \n",
       "0                 F       122568.0  \n",
       "1                 F       110796.0  \n",
       "2                 F       122112.0  \n",
       "4                 F        86730.0  \n",
       "6                 F       118830.0  "
      ]
     },
     "execution_count": 3,
     "metadata": {},
     "output_type": "execute_result"
    }
   ],
   "source": [
    "# Creating the Salary DataFrame and dropping the unuseful columns\n",
    "\n",
    "salary_df = original_df.loc[original_df['Salary or Hourly'] == 'Salary'].copy()\n",
    "salary_df = salary_df.drop(salary_df.iloc[:, 4:6], axis=1)\n",
    "salary_df = salary_df.drop(salary_df.iloc[:, 5:], axis=1)\n",
    "\n",
    "print('Number of Employees: ', salary_df.shape[0])\n",
    "salary_df.head()"
   ]
  },
  {
   "cell_type": "code",
   "execution_count": 4,
   "id": "42133bc9",
   "metadata": {
    "execution": {
     "iopub.execute_input": "2022-06-08T20:39:13.350968Z",
     "iopub.status.busy": "2022-06-08T20:39:13.350561Z",
     "iopub.status.idle": "2022-06-08T20:39:13.378022Z",
     "shell.execute_reply": "2022-06-08T20:39:13.376286Z"
    },
    "papermill": {
     "duration": 0.047663,
     "end_time": "2022-06-08T20:39:13.380820",
     "exception": false,
     "start_time": "2022-06-08T20:39:13.333157",
     "status": "completed"
    },
    "tags": []
   },
   "outputs": [
    {
     "name": "stdout",
     "output_type": "stream",
     "text": [
      "Number of Employees:  6814\n"
     ]
    },
    {
     "data": {
      "text/html": [
       "<div>\n",
       "<style scoped>\n",
       "    .dataframe tbody tr th:only-of-type {\n",
       "        vertical-align: middle;\n",
       "    }\n",
       "\n",
       "    .dataframe tbody tr th {\n",
       "        vertical-align: top;\n",
       "    }\n",
       "\n",
       "    .dataframe thead th {\n",
       "        text-align: right;\n",
       "    }\n",
       "</style>\n",
       "<table border=\"1\" class=\"dataframe\">\n",
       "  <thead>\n",
       "    <tr style=\"text-align: right;\">\n",
       "      <th></th>\n",
       "      <th>Name</th>\n",
       "      <th>Job Titles</th>\n",
       "      <th>Department</th>\n",
       "      <th>Full or Part-Time</th>\n",
       "      <th>Typical Hours</th>\n",
       "      <th>Hourly Rate</th>\n",
       "    </tr>\n",
       "  </thead>\n",
       "  <tbody>\n",
       "    <tr>\n",
       "      <th>3</th>\n",
       "      <td>ABARCA,  EMMANUEL</td>\n",
       "      <td>CONCRETE LABORER</td>\n",
       "      <td>TRANSPORTN</td>\n",
       "      <td>F</td>\n",
       "      <td>40.0</td>\n",
       "      <td>45.90</td>\n",
       "    </tr>\n",
       "    <tr>\n",
       "      <th>5</th>\n",
       "      <td>ABBATACOLA,  ROBERT J</td>\n",
       "      <td>ELECTRICAL MECHANIC</td>\n",
       "      <td>AVIATION</td>\n",
       "      <td>F</td>\n",
       "      <td>40.0</td>\n",
       "      <td>51.00</td>\n",
       "    </tr>\n",
       "    <tr>\n",
       "      <th>8</th>\n",
       "      <td>ABBOTT,  BETTY L</td>\n",
       "      <td>FOSTER GRANDPARENT</td>\n",
       "      <td>FAMILY &amp; SUPPORT</td>\n",
       "      <td>P</td>\n",
       "      <td>20.0</td>\n",
       "      <td>3.00</td>\n",
       "    </tr>\n",
       "    <tr>\n",
       "      <th>20</th>\n",
       "      <td>ABDUL-SHAKUR,  TAHIR J</td>\n",
       "      <td>POOL MOTOR TRUCK DRIVER</td>\n",
       "      <td>STREETS &amp; SAN</td>\n",
       "      <td>P</td>\n",
       "      <td>10.0</td>\n",
       "      <td>39.25</td>\n",
       "    </tr>\n",
       "    <tr>\n",
       "      <th>36</th>\n",
       "      <td>ABRAMS,  SAMUEL A</td>\n",
       "      <td>POOL MOTOR TRUCK DRIVER</td>\n",
       "      <td>STREETS &amp; SAN</td>\n",
       "      <td>F</td>\n",
       "      <td>40.0</td>\n",
       "      <td>39.25</td>\n",
       "    </tr>\n",
       "  </tbody>\n",
       "</table>\n",
       "</div>"
      ],
      "text/plain": [
       "                      Name               Job Titles        Department  \\\n",
       "3        ABARCA,  EMMANUEL         CONCRETE LABORER        TRANSPORTN   \n",
       "5    ABBATACOLA,  ROBERT J      ELECTRICAL MECHANIC          AVIATION   \n",
       "8         ABBOTT,  BETTY L       FOSTER GRANDPARENT  FAMILY & SUPPORT   \n",
       "20  ABDUL-SHAKUR,  TAHIR J  POOL MOTOR TRUCK DRIVER     STREETS & SAN   \n",
       "36       ABRAMS,  SAMUEL A  POOL MOTOR TRUCK DRIVER     STREETS & SAN   \n",
       "\n",
       "   Full or Part-Time  Typical Hours  Hourly Rate  \n",
       "3                  F           40.0        45.90  \n",
       "5                  F           40.0        51.00  \n",
       "8                  P           20.0         3.00  \n",
       "20                 P           10.0        39.25  \n",
       "36                 F           40.0        39.25  "
      ]
     },
     "execution_count": 4,
     "metadata": {},
     "output_type": "execute_result"
    }
   ],
   "source": [
    "# Doing the same thing to the Hourly DataFrame\n",
    "\n",
    "hourly_df = original_df.loc[original_df['Salary or Hourly'] == 'Hourly'].copy()\n",
    "hourly_df = hourly_df.drop(hourly_df.iloc[:, 4:5], axis=1)\n",
    "hourly_df = hourly_df.drop(hourly_df.iloc[:, 5:6], axis=1)\n",
    "\n",
    "print('Number of Employees: ', hourly_df.shape[0])\n",
    "hourly_df.head()"
   ]
  },
  {
   "cell_type": "markdown",
   "id": "bb813318",
   "metadata": {
    "papermill": {
     "duration": 0.016739,
     "end_time": "2022-06-08T20:39:13.414021",
     "exception": false,
     "start_time": "2022-06-08T20:39:13.397282",
     "status": "completed"
    },
    "tags": []
   },
   "source": [
    "----\n",
    "\n",
    "<h1 style=\"color:blue\">0) Salary/Monthly Employees</h1>\n",
    "\n",
    "<p></p>"
   ]
  },
  {
   "cell_type": "markdown",
   "id": "b695f2a8",
   "metadata": {
    "papermill": {
     "duration": 0.016031,
     "end_time": "2022-06-08T20:39:13.446662",
     "exception": false,
     "start_time": "2022-06-08T20:39:13.430631",
     "status": "completed"
    },
    "tags": []
   },
   "source": [
    "<b>Getting the 5 most and less paid employees</b>"
   ]
  },
  {
   "cell_type": "code",
   "execution_count": 5,
   "id": "dca1485d",
   "metadata": {
    "execution": {
     "iopub.execute_input": "2022-06-08T20:39:13.482313Z",
     "iopub.status.busy": "2022-06-08T20:39:13.481932Z",
     "iopub.status.idle": "2022-06-08T20:39:13.500894Z",
     "shell.execute_reply": "2022-06-08T20:39:13.499908Z"
    },
    "papermill": {
     "duration": 0.039574,
     "end_time": "2022-06-08T20:39:13.503191",
     "exception": false,
     "start_time": "2022-06-08T20:39:13.463617",
     "status": "completed"
    },
    "tags": []
   },
   "outputs": [
    {
     "data": {
      "text/plain": [
       "Name                 0\n",
       "Job Titles           0\n",
       "Department           0\n",
       "Full or Part-Time    0\n",
       "Annual Salary        0\n",
       "dtype: int64"
      ]
     },
     "execution_count": 5,
     "metadata": {},
     "output_type": "execute_result"
    }
   ],
   "source": [
    "# checkgin out whether we are dealing with any null datas\n",
    "# spoiler: hopefully, we are not!!!!\n",
    "salary_df.isnull().sum()"
   ]
  },
  {
   "cell_type": "code",
   "execution_count": 6,
   "id": "27dc1325",
   "metadata": {
    "execution": {
     "iopub.execute_input": "2022-06-08T20:39:13.538117Z",
     "iopub.status.busy": "2022-06-08T20:39:13.537141Z",
     "iopub.status.idle": "2022-06-08T20:39:13.554915Z",
     "shell.execute_reply": "2022-06-08T20:39:13.553874Z"
    },
    "papermill": {
     "duration": 0.037574,
     "end_time": "2022-06-08T20:39:13.557278",
     "exception": false,
     "start_time": "2022-06-08T20:39:13.519704",
     "status": "completed"
    },
    "tags": []
   },
   "outputs": [],
   "source": [
    "# sorting the rows by 'Annual Salary' column in ascending and descending order\n",
    "# and get the top five of them\n",
    "five_most_paid = salary_df.sort_values('Annual Salary', ascending=False)[0:5]\n",
    "five_most_paid = five_most_paid.set_index(pd.Index([0, 1, 2, 3, 4]))\n",
    "\n",
    "five_less_paid = salary_df.sort_values('Annual Salary', ascending=True)[0:5]\n",
    "five_less_paid = five_less_paid.set_index(pd.Index([0, 1, 2, 3, 4]))"
   ]
  },
  {
   "cell_type": "code",
   "execution_count": 7,
   "id": "66f173ea",
   "metadata": {
    "execution": {
     "iopub.execute_input": "2022-06-08T20:39:13.592247Z",
     "iopub.status.busy": "2022-06-08T20:39:13.591545Z",
     "iopub.status.idle": "2022-06-08T20:39:13.604891Z",
     "shell.execute_reply": "2022-06-08T20:39:13.603486Z"
    },
    "papermill": {
     "duration": 0.036132,
     "end_time": "2022-06-08T20:39:13.609703",
     "exception": false,
     "start_time": "2022-06-08T20:39:13.573571",
     "status": "completed"
    },
    "tags": []
   },
   "outputs": [
    {
     "name": "stdout",
     "output_type": "stream",
     "text": [
      "***************************\n",
      "* Five Most Paid Employes *\n",
      "***************************\n",
      "\n",
      "Top # 1\n",
      "----\n",
      "Name:  RHEE,  JAMIE L\n",
      "Job Title:  COMMISSIONER OF AVIATION\n",
      "Department:  AVIATION\n",
      "Type of Time:  Full-Time\n",
      "Annual Salary: U$ 275004.0\n",
      "Monthly Salary: U$ 22917.0\n",
      "\n",
      "Top # 2\n",
      "----\n",
      "Name:  BROWN,  DAVID O\n",
      "Job Title:  SUPERINTENDENT OF POLICE\n",
      "Department:  POLICE\n",
      "Type of Time:  Full-Time\n",
      "Annual Salary: U$ 260004.0\n",
      "Monthly Salary: U$ 21667.0\n",
      "\n",
      "Top # 3\n",
      "----\n",
      "Name:  NANCE HOLT,  ANNETTE M\n",
      "Job Title:  FIRE COMMISSIONER\n",
      "Department:  FIRE\n",
      "Type of Time:  Full-Time\n",
      "Annual Salary: U$ 228612.0\n",
      "Monthly Salary: U$ 19051.0\n",
      "\n",
      "Top # 4\n",
      "----\n",
      "Name:  LIGHTFOOT,  LORI E\n",
      "Job Title:  MAYOR\n",
      "Department:  MAYOR'S OFFICE\n",
      "Type of Time:  Full-Time\n",
      "Annual Salary: U$ 216210.0\n",
      "Monthly Salary: U$ 18017.5\n",
      "\n",
      "Top # 5\n",
      "----\n",
      "Name:  SHERIDAN,  MARY L\n",
      "Job Title:  FIRST DEPUTY FIRE COMMISSIONER\n",
      "Department:  FIRE\n",
      "Type of Time:  Full-Time\n",
      "Annual Salary: U$ 207624.0\n",
      "Monthly Salary: U$ 17302.0\n"
     ]
    }
   ],
   "source": [
    "### Five Most Paid ###\n",
    "five_most_paid_title = '* Five Most Paid Employes *'\n",
    "\n",
    "print('*' * len(five_most_paid_title))\n",
    "print(five_most_paid_title)\n",
    "print('*' * len(five_most_paid_title))\n",
    "\n",
    "for top_position in range(len(five_most_paid)):\n",
    "    print()\n",
    "    print('Top #', top_position + 1)\n",
    "    print('----')\n",
    "    print('Name: ', five_most_paid.at[top_position, 'Name'])\n",
    "    print('Job Title: ', five_most_paid.at[top_position, 'Job Titles'])\n",
    "    print('Department: ', five_most_paid.at[top_position, 'Department'])\n",
    "    \n",
    "    print('Type of Time: ', 'Full-Time' \\\n",
    "          if five_most_paid.at[top_position, 'Full or Part-Time'] == 'F' \\\n",
    "          else 'Part-Time')\n",
    "    \n",
    "    print('Annual Salary: U$', five_most_paid.at[top_position, 'Annual Salary'])\n",
    "    print('Monthly Salary: U$', round(five_most_paid.at[top_position, 'Annual Salary'] / 12, 2))"
   ]
  },
  {
   "cell_type": "code",
   "execution_count": 8,
   "id": "fdb1f21e",
   "metadata": {
    "execution": {
     "iopub.execute_input": "2022-06-08T20:39:13.644889Z",
     "iopub.status.busy": "2022-06-08T20:39:13.644456Z",
     "iopub.status.idle": "2022-06-08T20:39:13.654664Z",
     "shell.execute_reply": "2022-06-08T20:39:13.653678Z"
    },
    "papermill": {
     "duration": 0.031754,
     "end_time": "2022-06-08T20:39:13.658538",
     "exception": false,
     "start_time": "2022-06-08T20:39:13.626784",
     "status": "completed"
    },
    "tags": []
   },
   "outputs": [
    {
     "name": "stdout",
     "output_type": "stream",
     "text": [
      "****************************\n",
      "* Five Less Paid Employees *\n",
      "****************************\n",
      "\n",
      "Top # 1\n",
      "----\n",
      "Name:  ADELMAN,  BRUCE E\n",
      "Job Title:  LEGISLATIVE AIDE\n",
      "Department:  CITY COUNCIL\n",
      "Type of Time:  Full-Time\n",
      "Annual Salary: U$ 21600.0\n",
      "Monthly Salary: U$ 1800.0\n",
      "\n",
      "Top # 2\n",
      "----\n",
      "Name:  BURKS,  BRITTANY S\n",
      "Job Title:  ALDERMANIC AIDE\n",
      "Department:  CITY COUNCIL\n",
      "Type of Time:  Full-Time\n",
      "Annual Salary: U$ 23208.0\n",
      "Monthly Salary: U$ 1934.0\n",
      "\n",
      "Top # 3\n",
      "----\n",
      "Name:  MARTIN,  CAROLINE J\n",
      "Job Title:  ALDERMANIC AIDE\n",
      "Department:  CITY COUNCIL\n",
      "Type of Time:  Full-Time\n",
      "Annual Salary: U$ 30000.0\n",
      "Monthly Salary: U$ 2500.0\n",
      "\n",
      "Top # 4\n",
      "----\n",
      "Name:  TOMPKINS,  ANGELA A\n",
      "Job Title:  CLERK - BD OF ELECTIONS\n",
      "Department:  BOARD OF ELECTION\n",
      "Type of Time:  Full-Time\n",
      "Annual Salary: U$ 30060.0\n",
      "Monthly Salary: U$ 2505.0\n",
      "\n",
      "Top # 5\n",
      "----\n",
      "Name:  WILSON,  KAHLIL M\n",
      "Job Title:  CLERK - BD OF ELECTIONS\n",
      "Department:  BOARD OF ELECTION\n",
      "Type of Time:  Full-Time\n",
      "Annual Salary: U$ 30060.0\n",
      "Monthly Salary: U$ 2505.0\n"
     ]
    }
   ],
   "source": [
    "### Five Less Paid ###\n",
    "five_less_paid_title = '* Five Less Paid Employees *'\n",
    "\n",
    "print('*' * len(five_less_paid_title))\n",
    "print(five_less_paid_title)\n",
    "print('*' * len(five_less_paid_title))\n",
    "\n",
    "for top_position in range(len(five_less_paid)):\n",
    "    print()\n",
    "    print('Top #', top_position + 1)\n",
    "    print('----')\n",
    "    print('Name: ', five_less_paid.at[top_position, 'Name'])\n",
    "    print('Job Title: ', five_less_paid.at[top_position, 'Job Titles'])\n",
    "    print('Department: ', five_less_paid.at[top_position, 'Department'])\n",
    "    \n",
    "    print('Type of Time: ', 'Full-Time' \\\n",
    "          if five_less_paid.at[top_position, 'Full or Part-Time'] == 'F' \\\n",
    "          else 'Part-Time')\n",
    "    \n",
    "    print('Annual Salary: U$', five_less_paid.at[top_position, 'Annual Salary'])\n",
    "    print('Monthly Salary: U$', round(five_less_paid.at[top_position, 'Annual Salary'] / 12, 2))"
   ]
  },
  {
   "cell_type": "markdown",
   "id": "467ad184",
   "metadata": {
    "papermill": {
     "duration": 0.016381,
     "end_time": "2022-06-08T20:39:13.691584",
     "exception": false,
     "start_time": "2022-06-08T20:39:13.675203",
     "status": "completed"
    },
    "tags": []
   },
   "source": [
    "----\n",
    "\n",
    "<b>Getting the 5 most and less paid Job Titles (avg)</b>"
   ]
  },
  {
   "cell_type": "code",
   "execution_count": 9,
   "id": "9c4831b2",
   "metadata": {
    "execution": {
     "iopub.execute_input": "2022-06-08T20:39:13.727257Z",
     "iopub.status.busy": "2022-06-08T20:39:13.726621Z",
     "iopub.status.idle": "2022-06-08T20:39:13.746003Z",
     "shell.execute_reply": "2022-06-08T20:39:13.745070Z"
    },
    "papermill": {
     "duration": 0.040074,
     "end_time": "2022-06-08T20:39:13.748516",
     "exception": false,
     "start_time": "2022-06-08T20:39:13.708442",
     "status": "completed"
    },
    "tags": []
   },
   "outputs": [],
   "source": [
    "\"\"\" \n",
    "Getting the avg salary for each job title:\n",
    "\n",
    "\\ We first group the 'Annual Salary' column by each 'Job Titles' and, to don't have\n",
    "a list of salaries, we get the 'sum()' of this aggregation;\n",
    "\n",
    "\\ After that, we divide each result of the aggregation by the amount of datas we have\n",
    "in each Job Title in order to get the Annual Salary Average. Oh, and we round each result\n",
    "to 2 decimal digits;\n",
    "\n",
    "\\ In the end, we sort the new dataframe in descending order (higher avg to lower avg)\n",
    "\"\"\"\n",
    "\n",
    "avg_salary_df = round(salary_df.groupby('Job Titles')['Annual Salary'].sum() \\\n",
    "                / salary_df.groupby('Job Titles')['Annual Salary'].count(), 2)\n",
    "\n",
    "avg_salary_df = avg_salary_df.sort_values(ascending=False)"
   ]
  },
  {
   "cell_type": "code",
   "execution_count": 10,
   "id": "19c98936",
   "metadata": {
    "execution": {
     "iopub.execute_input": "2022-06-08T20:39:13.785289Z",
     "iopub.status.busy": "2022-06-08T20:39:13.784207Z",
     "iopub.status.idle": "2022-06-08T20:39:13.793205Z",
     "shell.execute_reply": "2022-06-08T20:39:13.792168Z"
    },
    "papermill": {
     "duration": 0.029341,
     "end_time": "2022-06-08T20:39:13.795244",
     "exception": false,
     "start_time": "2022-06-08T20:39:13.765903",
     "status": "completed"
    },
    "tags": []
   },
   "outputs": [],
   "source": [
    "\"\"\"\n",
    "Getting the five most and less paid Job Titles:\n",
    "\n",
    "\\ With the sorted dataset, we get the five most paid jobs (first top five >> head)\n",
    "and the five less paid jobs (last top five >> tail)\n",
    "\n",
    "\\ After that, to use a new index sequence, we reset the dataframes indexes; e.g.:\n",
    "\n",
    "    - Before indexes being reset\n",
    "    \n",
    "     2789 | Job 1 | Avg 1\n",
    "     3210 | Job 2 | Avg 2\n",
    "    12049 | Job 3 | Avg 3\n",
    "    \n",
    "    - After indexes being reset\n",
    "    \n",
    "    0 | Job 1 | Avg 1\n",
    "    1 | Job 2 | Avg 2\n",
    "    2 | Job 3 | Avg 3\n",
    "    \n",
    "\"\"\"\n",
    "five_most_paid_job_titles = avg_salary_df.head()\n",
    "five_less_paid_job_titles = avg_salary_df.tail()\n",
    "\n",
    "\n",
    "five_most_paid_job_titles = five_most_paid_job_titles.reset_index()\n",
    "five_less_paid_job_titles = five_less_paid_job_titles.reset_index()"
   ]
  },
  {
   "cell_type": "code",
   "execution_count": 11,
   "id": "969a5a2d",
   "metadata": {
    "execution": {
     "iopub.execute_input": "2022-06-08T20:39:13.830814Z",
     "iopub.status.busy": "2022-06-08T20:39:13.829895Z",
     "iopub.status.idle": "2022-06-08T20:39:13.839079Z",
     "shell.execute_reply": "2022-06-08T20:39:13.838062Z"
    },
    "papermill": {
     "duration": 0.029256,
     "end_time": "2022-06-08T20:39:13.841237",
     "exception": false,
     "start_time": "2022-06-08T20:39:13.811981",
     "status": "completed"
    },
    "tags": []
   },
   "outputs": [
    {
     "name": "stdout",
     "output_type": "stream",
     "text": [
      "*****************************\n",
      "* Five Most Paid Job Titles *\n",
      "*****************************\n",
      "\n",
      "Top # 1\n",
      "----\n",
      "Job Title:  COMMISSIONER OF AVIATION\n",
      "Annual Salary: U$ 275004.0\n",
      "\n",
      "Top # 2\n",
      "----\n",
      "Job Title:  SUPERINTENDENT OF POLICE\n",
      "Annual Salary: U$ 260004.0\n",
      "\n",
      "Top # 3\n",
      "----\n",
      "Job Title:  FIRE COMMISSIONER\n",
      "Annual Salary: U$ 228612.0\n",
      "\n",
      "Top # 4\n",
      "----\n",
      "Job Title:  MAYOR\n",
      "Annual Salary: U$ 216210.0\n",
      "\n",
      "Top # 5\n",
      "----\n",
      "Job Title:  FIRST DEPUTY FIRE COMMISSIONER\n",
      "Annual Salary: U$ 207624.0\n"
     ]
    }
   ],
   "source": [
    "### Five Most Paid Job Titles ###\n",
    "\n",
    "five_most_paid_job_titles_title = '* Five Most Paid Job Titles *'\n",
    "\n",
    "print('*' * len(five_most_paid_job_titles_title))\n",
    "print(five_most_paid_job_titles_title)\n",
    "print('*' * len(five_most_paid_job_titles_title))\n",
    "\n",
    "for top_position in range(len(five_most_paid_job_titles)):\n",
    "    print()\n",
    "    print('Top #', top_position + 1)\n",
    "    print('----')\n",
    "    print('Job Title: ', five_most_paid_job_titles.at[top_position, 'Job Titles'])\n",
    "    print('Annual Salary: U$', five_most_paid_job_titles.at[top_position, 'Annual Salary'])"
   ]
  },
  {
   "cell_type": "code",
   "execution_count": 12,
   "id": "05a863a4",
   "metadata": {
    "execution": {
     "iopub.execute_input": "2022-06-08T20:39:13.876956Z",
     "iopub.status.busy": "2022-06-08T20:39:13.876526Z",
     "iopub.status.idle": "2022-06-08T20:39:13.885241Z",
     "shell.execute_reply": "2022-06-08T20:39:13.884104Z"
    },
    "papermill": {
     "duration": 0.029422,
     "end_time": "2022-06-08T20:39:13.887819",
     "exception": false,
     "start_time": "2022-06-08T20:39:13.858397",
     "status": "completed"
    },
    "tags": []
   },
   "outputs": [
    {
     "name": "stdout",
     "output_type": "stream",
     "text": [
      "*****************************\n",
      "* Five Less Paid Job Titles *\n",
      "*****************************\n",
      "\n",
      "Top # 1\n",
      "----\n",
      "Job Title:  TRAFFIC ENFORCEMENT TECH\n",
      "Annual Salary: U$ 39581.45\n",
      "\n",
      "Top # 2\n",
      "----\n",
      "Job Title:  REPROGRAPHICS TECHNICIAN II\n",
      "Annual Salary: U$ 37224.0\n",
      "\n",
      "Top # 3\n",
      "----\n",
      "Job Title:  COMMITTEE SECRETARY\n",
      "Annual Salary: U$ 34476.0\n",
      "\n",
      "Top # 4\n",
      "----\n",
      "Job Title:  CLERK - BD OF ELECTIONS\n",
      "Annual Salary: U$ 34384.62\n",
      "\n",
      "Top # 5\n",
      "----\n",
      "Job Title:  ELECTION EQUIPMENT & SUPPLY SPEC I\n",
      "Annual Salary: U$ 32460.0\n"
     ]
    }
   ],
   "source": [
    "### Five Less Paid Job Titles ###\n",
    "\n",
    "five_less_paid_job_titles_title = '* Five Less Paid Job Titles *'\n",
    "\n",
    "print('*' * len(five_less_paid_job_titles_title))\n",
    "print(five_less_paid_job_titles_title)\n",
    "print('*' * len(five_less_paid_job_titles_title))\n",
    "\n",
    "for top_position in range(len(five_less_paid_job_titles)):\n",
    "    print()\n",
    "    print('Top #', top_position + 1)\n",
    "    print('----')\n",
    "    print('Job Title: ', five_less_paid_job_titles.at[top_position, 'Job Titles'])\n",
    "    print('Annual Salary: U$', five_less_paid_job_titles.at[top_position, 'Annual Salary'])"
   ]
  },
  {
   "cell_type": "markdown",
   "id": "0342b564",
   "metadata": {
    "papermill": {
     "duration": 0.016505,
     "end_time": "2022-06-08T20:39:13.922833",
     "exception": false,
     "start_time": "2022-06-08T20:39:13.906328",
     "status": "completed"
    },
    "tags": []
   },
   "source": [
    "----\n",
    "\n",
    "<b>Getting the Average Annual Monthly Salary</b>"
   ]
  },
  {
   "cell_type": "code",
   "execution_count": 13,
   "id": "e465292d",
   "metadata": {
    "execution": {
     "iopub.execute_input": "2022-06-08T20:39:13.958869Z",
     "iopub.status.busy": "2022-06-08T20:39:13.958465Z",
     "iopub.status.idle": "2022-06-08T20:39:13.966523Z",
     "shell.execute_reply": "2022-06-08T20:39:13.965864Z"
    },
    "papermill": {
     "duration": 0.027671,
     "end_time": "2022-06-08T20:39:13.968299",
     "exception": false,
     "start_time": "2022-06-08T20:39:13.940628",
     "status": "completed"
    },
    "tags": []
   },
   "outputs": [
    {
     "data": {
      "text/plain": [
       "Job Titles\n",
       "COMMISSIONER OF AVIATION              275004.00\n",
       "SUPERINTENDENT OF POLICE              260004.00\n",
       "FIRE COMMISSIONER                     228612.00\n",
       "MAYOR                                 216210.00\n",
       "FIRST DEPUTY FIRE COMMISSIONER        207624.00\n",
       "                                        ...    \n",
       "TRAFFIC ENFORCEMENT TECH               39581.45\n",
       "REPROGRAPHICS TECHNICIAN II            37224.00\n",
       "COMMITTEE SECRETARY                    34476.00\n",
       "CLERK - BD OF ELECTIONS                34384.62\n",
       "ELECTION EQUIPMENT & SUPPLY SPEC I     32460.00\n",
       "Name: Annual Salary, Length: 948, dtype: float64"
      ]
     },
     "execution_count": 13,
     "metadata": {},
     "output_type": "execute_result"
    }
   ],
   "source": [
    "# we already have the average annual salary\n",
    "avg_salary_df"
   ]
  },
  {
   "cell_type": "code",
   "execution_count": 14,
   "id": "9895066c",
   "metadata": {
    "execution": {
     "iopub.execute_input": "2022-06-08T20:39:14.004942Z",
     "iopub.status.busy": "2022-06-08T20:39:14.004333Z",
     "iopub.status.idle": "2022-06-08T20:39:14.012127Z",
     "shell.execute_reply": "2022-06-08T20:39:14.011336Z"
    },
    "papermill": {
     "duration": 0.028095,
     "end_time": "2022-06-08T20:39:14.014053",
     "exception": false,
     "start_time": "2022-06-08T20:39:13.985958",
     "status": "completed"
    },
    "tags": []
   },
   "outputs": [
    {
     "data": {
      "text/plain": [
       "Job Titles\n",
       "COMMISSIONER OF AVIATION              22917.00\n",
       "SUPERINTENDENT OF POLICE              21667.00\n",
       "FIRE COMMISSIONER                     19051.00\n",
       "MAYOR                                 18017.50\n",
       "FIRST DEPUTY FIRE COMMISSIONER        17302.00\n",
       "                                        ...   \n",
       "TRAFFIC ENFORCEMENT TECH               3298.45\n",
       "REPROGRAPHICS TECHNICIAN II            3102.00\n",
       "COMMITTEE SECRETARY                    2873.00\n",
       "CLERK - BD OF ELECTIONS                2865.38\n",
       "ELECTION EQUIPMENT & SUPPLY SPEC I     2705.00\n",
       "Name: Annual Salary, Length: 948, dtype: float64"
      ]
     },
     "execution_count": 14,
     "metadata": {},
     "output_type": "execute_result"
    }
   ],
   "source": [
    "# to get the average salary per month, we just have to divide the annual average\n",
    "# by 12 months (oh, and round the result to two decimal digits)\n",
    "round(avg_salary_df / 12, 2)"
   ]
  },
  {
   "cell_type": "markdown",
   "id": "1f626a94",
   "metadata": {
    "papermill": {
     "duration": 0.016802,
     "end_time": "2022-06-08T20:39:14.047986",
     "exception": false,
     "start_time": "2022-06-08T20:39:14.031184",
     "status": "completed"
    },
    "tags": []
   },
   "source": [
    "----\n",
    "\n",
    "<b>Variable Correlation Plot</b>"
   ]
  },
  {
   "cell_type": "code",
   "execution_count": 15,
   "id": "ccac08c4",
   "metadata": {
    "execution": {
     "iopub.execute_input": "2022-06-08T20:39:14.083784Z",
     "iopub.status.busy": "2022-06-08T20:39:14.083336Z",
     "iopub.status.idle": "2022-06-08T20:39:15.327113Z",
     "shell.execute_reply": "2022-06-08T20:39:15.326067Z"
    },
    "papermill": {
     "duration": 1.264639,
     "end_time": "2022-06-08T20:39:15.329605",
     "exception": false,
     "start_time": "2022-06-08T20:39:14.064966",
     "status": "completed"
    },
    "tags": []
   },
   "outputs": [],
   "source": [
    "\"\"\"\n",
    "To the correlation, we don't need the 'Name' column, because the person's name\n",
    "doesn't interfere in how much this person will gain per year.\n",
    "\n",
    "Also, as far the correlation uses numbers only, we have to transform the\n",
    "categorical variables into numbers before getting the plot. The categorical\n",
    "variables that we need to transform are 'Job Titles', 'Department' and 'Full or\n",
    "Part-Time' columns\n",
    "\"\"\"\n",
    "\n",
    "# Getting a new dataframe excluding the 'Name' column\n",
    "corr_salary_df = salary_df.iloc[:, 1:]\n",
    "\n",
    "# Ennumareting the Binary Cateegorical Variables ('Full or Part-Time' column)\n",
    "#\n",
    "# 'P' values transform into 0\n",
    "# 'F' values transform into 1\n",
    "corr_salary_df['Full or Part-Time'].replace(['P', 'F'], [0, 1], inplace=True)\n",
    "\n",
    "# Ennumerating the 'Job Titles' column by index\n",
    "job_titles = corr_salary_df['Job Titles'].unique()\n",
    "job_titles_index = [index for index in range(len(job_titles))]\n",
    "\n",
    "corr_salary_df['Job Titles'].replace(job_titles, job_titles_index, inplace=True)\n",
    "\n",
    "# Ennumerating the 'Department' column by index\n",
    "department = corr_salary_df['Department'].unique()\n",
    "department_index = [index for index in range(len(department))]\n",
    "\n",
    "corr_salary_df['Department'].replace(department, department_index, inplace=True)"
   ]
  },
  {
   "cell_type": "code",
   "execution_count": 16,
   "id": "4552bec8",
   "metadata": {
    "execution": {
     "iopub.execute_input": "2022-06-08T20:39:15.365601Z",
     "iopub.status.busy": "2022-06-08T20:39:15.364700Z",
     "iopub.status.idle": "2022-06-08T20:39:15.378536Z",
     "shell.execute_reply": "2022-06-08T20:39:15.377560Z"
    },
    "papermill": {
     "duration": 0.03394,
     "end_time": "2022-06-08T20:39:15.380609",
     "exception": false,
     "start_time": "2022-06-08T20:39:15.346669",
     "status": "completed"
    },
    "tags": []
   },
   "outputs": [
    {
     "data": {
      "text/html": [
       "<div>\n",
       "<style scoped>\n",
       "    .dataframe tbody tr th:only-of-type {\n",
       "        vertical-align: middle;\n",
       "    }\n",
       "\n",
       "    .dataframe tbody tr th {\n",
       "        vertical-align: top;\n",
       "    }\n",
       "\n",
       "    .dataframe thead th {\n",
       "        text-align: right;\n",
       "    }\n",
       "</style>\n",
       "<table border=\"1\" class=\"dataframe\">\n",
       "  <thead>\n",
       "    <tr style=\"text-align: right;\">\n",
       "      <th></th>\n",
       "      <th>Job Titles</th>\n",
       "      <th>Department</th>\n",
       "      <th>Full or Part-Time</th>\n",
       "      <th>Annual Salary</th>\n",
       "    </tr>\n",
       "  </thead>\n",
       "  <tbody>\n",
       "    <tr>\n",
       "      <th>0</th>\n",
       "      <td>0</td>\n",
       "      <td>0</td>\n",
       "      <td>1</td>\n",
       "      <td>122568.0</td>\n",
       "    </tr>\n",
       "    <tr>\n",
       "      <th>1</th>\n",
       "      <td>1</td>\n",
       "      <td>0</td>\n",
       "      <td>1</td>\n",
       "      <td>110796.0</td>\n",
       "    </tr>\n",
       "    <tr>\n",
       "      <th>2</th>\n",
       "      <td>2</td>\n",
       "      <td>1</td>\n",
       "      <td>1</td>\n",
       "      <td>122112.0</td>\n",
       "    </tr>\n",
       "    <tr>\n",
       "      <th>4</th>\n",
       "      <td>3</td>\n",
       "      <td>0</td>\n",
       "      <td>1</td>\n",
       "      <td>86730.0</td>\n",
       "    </tr>\n",
       "    <tr>\n",
       "      <th>6</th>\n",
       "      <td>4</td>\n",
       "      <td>2</td>\n",
       "      <td>1</td>\n",
       "      <td>118830.0</td>\n",
       "    </tr>\n",
       "    <tr>\n",
       "      <th>...</th>\n",
       "      <td>...</td>\n",
       "      <td>...</td>\n",
       "      <td>...</td>\n",
       "      <td>...</td>\n",
       "    </tr>\n",
       "    <tr>\n",
       "      <th>31096</th>\n",
       "      <td>3</td>\n",
       "      <td>0</td>\n",
       "      <td>1</td>\n",
       "      <td>90990.0</td>\n",
       "    </tr>\n",
       "    <tr>\n",
       "      <th>31097</th>\n",
       "      <td>3</td>\n",
       "      <td>0</td>\n",
       "      <td>1</td>\n",
       "      <td>95586.0</td>\n",
       "    </tr>\n",
       "    <tr>\n",
       "      <th>31098</th>\n",
       "      <td>3</td>\n",
       "      <td>0</td>\n",
       "      <td>1</td>\n",
       "      <td>102372.0</td>\n",
       "    </tr>\n",
       "    <tr>\n",
       "      <th>31099</th>\n",
       "      <td>3</td>\n",
       "      <td>0</td>\n",
       "      <td>1</td>\n",
       "      <td>109236.0</td>\n",
       "    </tr>\n",
       "    <tr>\n",
       "      <th>31100</th>\n",
       "      <td>592</td>\n",
       "      <td>21</td>\n",
       "      <td>1</td>\n",
       "      <td>142176.0</td>\n",
       "    </tr>\n",
       "  </tbody>\n",
       "</table>\n",
       "<p>24287 rows × 4 columns</p>\n",
       "</div>"
      ],
      "text/plain": [
       "       Job Titles  Department  Full or Part-Time  Annual Salary\n",
       "0               0           0                  1       122568.0\n",
       "1               1           0                  1       110796.0\n",
       "2               2           1                  1       122112.0\n",
       "4               3           0                  1        86730.0\n",
       "6               4           2                  1       118830.0\n",
       "...           ...         ...                ...            ...\n",
       "31096           3           0                  1        90990.0\n",
       "31097           3           0                  1        95586.0\n",
       "31098           3           0                  1       102372.0\n",
       "31099           3           0                  1       109236.0\n",
       "31100         592          21                  1       142176.0\n",
       "\n",
       "[24287 rows x 4 columns]"
      ]
     },
     "execution_count": 16,
     "metadata": {},
     "output_type": "execute_result"
    }
   ],
   "source": [
    "# Checking oout the transformed correlation dataframe\n",
    "corr_salary_df"
   ]
  },
  {
   "cell_type": "code",
   "execution_count": 17,
   "id": "06703775",
   "metadata": {
    "execution": {
     "iopub.execute_input": "2022-06-08T20:39:15.417290Z",
     "iopub.status.busy": "2022-06-08T20:39:15.416915Z",
     "iopub.status.idle": "2022-06-08T20:39:15.431607Z",
     "shell.execute_reply": "2022-06-08T20:39:15.430476Z"
    },
    "papermill": {
     "duration": 0.035418,
     "end_time": "2022-06-08T20:39:15.433566",
     "exception": false,
     "start_time": "2022-06-08T20:39:15.398148",
     "status": "completed"
    },
    "tags": []
   },
   "outputs": [
    {
     "data": {
      "text/html": [
       "<div>\n",
       "<style scoped>\n",
       "    .dataframe tbody tr th:only-of-type {\n",
       "        vertical-align: middle;\n",
       "    }\n",
       "\n",
       "    .dataframe tbody tr th {\n",
       "        vertical-align: top;\n",
       "    }\n",
       "\n",
       "    .dataframe thead th {\n",
       "        text-align: right;\n",
       "    }\n",
       "</style>\n",
       "<table border=\"1\" class=\"dataframe\">\n",
       "  <thead>\n",
       "    <tr style=\"text-align: right;\">\n",
       "      <th></th>\n",
       "      <th>Job Titles</th>\n",
       "      <th>Department</th>\n",
       "      <th>Full or Part-Time</th>\n",
       "    </tr>\n",
       "    <tr>\n",
       "      <th>Annual Salary</th>\n",
       "      <th></th>\n",
       "      <th></th>\n",
       "      <th></th>\n",
       "    </tr>\n",
       "  </thead>\n",
       "  <tbody>\n",
       "    <tr>\n",
       "      <th>122568.0</th>\n",
       "      <td>0</td>\n",
       "      <td>0</td>\n",
       "      <td>1</td>\n",
       "    </tr>\n",
       "    <tr>\n",
       "      <th>110796.0</th>\n",
       "      <td>1</td>\n",
       "      <td>0</td>\n",
       "      <td>1</td>\n",
       "    </tr>\n",
       "    <tr>\n",
       "      <th>122112.0</th>\n",
       "      <td>2</td>\n",
       "      <td>1</td>\n",
       "      <td>1</td>\n",
       "    </tr>\n",
       "    <tr>\n",
       "      <th>86730.0</th>\n",
       "      <td>3</td>\n",
       "      <td>0</td>\n",
       "      <td>1</td>\n",
       "    </tr>\n",
       "    <tr>\n",
       "      <th>118830.0</th>\n",
       "      <td>4</td>\n",
       "      <td>2</td>\n",
       "      <td>1</td>\n",
       "    </tr>\n",
       "    <tr>\n",
       "      <th>...</th>\n",
       "      <td>...</td>\n",
       "      <td>...</td>\n",
       "      <td>...</td>\n",
       "    </tr>\n",
       "    <tr>\n",
       "      <th>90990.0</th>\n",
       "      <td>3</td>\n",
       "      <td>0</td>\n",
       "      <td>1</td>\n",
       "    </tr>\n",
       "    <tr>\n",
       "      <th>95586.0</th>\n",
       "      <td>3</td>\n",
       "      <td>0</td>\n",
       "      <td>1</td>\n",
       "    </tr>\n",
       "    <tr>\n",
       "      <th>102372.0</th>\n",
       "      <td>3</td>\n",
       "      <td>0</td>\n",
       "      <td>1</td>\n",
       "    </tr>\n",
       "    <tr>\n",
       "      <th>109236.0</th>\n",
       "      <td>3</td>\n",
       "      <td>0</td>\n",
       "      <td>1</td>\n",
       "    </tr>\n",
       "    <tr>\n",
       "      <th>142176.0</th>\n",
       "      <td>592</td>\n",
       "      <td>21</td>\n",
       "      <td>1</td>\n",
       "    </tr>\n",
       "  </tbody>\n",
       "</table>\n",
       "<p>24287 rows × 3 columns</p>\n",
       "</div>"
      ],
      "text/plain": [
       "               Job Titles  Department  Full or Part-Time\n",
       "Annual Salary                                           \n",
       "122568.0                0           0                  1\n",
       "110796.0                1           0                  1\n",
       "122112.0                2           1                  1\n",
       "86730.0                 3           0                  1\n",
       "118830.0                4           2                  1\n",
       "...                   ...         ...                ...\n",
       "90990.0                 3           0                  1\n",
       "95586.0                 3           0                  1\n",
       "102372.0                3           0                  1\n",
       "109236.0                3           0                  1\n",
       "142176.0              592          21                  1\n",
       "\n",
       "[24287 rows x 3 columns]"
      ]
     },
     "execution_count": 17,
     "metadata": {},
     "output_type": "execute_result"
    }
   ],
   "source": [
    "# How the 'Annual Salary' is the response variable\n",
    "# we transform it into the index\n",
    "corr_salary_df = corr_salary_df.set_index('Annual Salary')\n",
    "corr_salary_df"
   ]
  },
  {
   "cell_type": "code",
   "execution_count": 18,
   "id": "e0131b50",
   "metadata": {
    "execution": {
     "iopub.execute_input": "2022-06-08T20:39:15.470720Z",
     "iopub.status.busy": "2022-06-08T20:39:15.470139Z",
     "iopub.status.idle": "2022-06-08T20:39:15.962484Z",
     "shell.execute_reply": "2022-06-08T20:39:15.961291Z"
    },
    "papermill": {
     "duration": 0.513665,
     "end_time": "2022-06-08T20:39:15.964954",
     "exception": false,
     "start_time": "2022-06-08T20:39:15.451289",
     "status": "completed"
    },
    "tags": []
   },
   "outputs": [
    {
     "data": {
      "text/plain": [
       "<AxesSubplot:ylabel='Annual Salary'>"
      ]
     },
     "execution_count": 18,
     "metadata": {},
     "output_type": "execute_result"
    },
    {
     "data": {
      "image/png": "[encoded data removed]",
      "text/plain": [
       "<Figure size 720x360 with 2 Axes>"
      ]
     },
     "metadata": {
      "needs_background": "light"
     },
     "output_type": "display_data"
    }
   ],
   "source": [
    "# Creating the heatmap plot\n",
    "plt.figure(figsize=(10, 5))\n",
    "sns.heatmap(corr_salary_df, cmap='coolwarm')"
   ]
  },
  {
   "cell_type": "markdown",
   "id": "5f0ff9e6",
   "metadata": {
    "papermill": {
     "duration": 0.018189,
     "end_time": "2022-06-08T20:39:16.001882",
     "exception": false,
     "start_time": "2022-06-08T20:39:15.983693",
     "status": "completed"
    },
    "tags": []
   },
   "source": [
    "<b>With the heatmap aboce we can conclude:</b>\n",
    "\n",
    "* Job Titles column has a considerable influence to the Annual Salary;\n",
    "* Department column has a tiny influence;\n",
    "* And Full or Part-Time columns doesn't have any influence."
   ]
  },
  {
   "cell_type": "markdown",
   "id": "2e1a8efe",
   "metadata": {
    "papermill": {
     "duration": 0.018078,
     "end_time": "2022-06-08T20:39:16.038427",
     "exception": false,
     "start_time": "2022-06-08T20:39:16.020349",
     "status": "completed"
    },
    "tags": []
   },
   "source": [
    "----\n",
    "\n",
    "<b>Relationship between the Variables</b>"
   ]
  },
  {
   "cell_type": "code",
   "execution_count": 19,
   "id": "3557c081",
   "metadata": {
    "execution": {
     "iopub.execute_input": "2022-06-08T20:39:16.078525Z",
     "iopub.status.busy": "2022-06-08T20:39:16.077649Z",
     "iopub.status.idle": "2022-06-08T20:39:16.082916Z",
     "shell.execute_reply": "2022-06-08T20:39:16.082064Z"
    },
    "papermill": {
     "duration": 0.028262,
     "end_time": "2022-06-08T20:39:16.085060",
     "exception": false,
     "start_time": "2022-06-08T20:39:16.056798",
     "status": "completed"
    },
    "tags": []
   },
   "outputs": [],
   "source": [
    "colors = np.random.randn(len(corr_salary_df))"
   ]
  },
  {
   "cell_type": "code",
   "execution_count": 20,
   "id": "6d0b86b4",
   "metadata": {
    "execution": {
     "iopub.execute_input": "2022-06-08T20:39:16.123484Z",
     "iopub.status.busy": "2022-06-08T20:39:16.123047Z",
     "iopub.status.idle": "2022-06-08T20:39:16.770935Z",
     "shell.execute_reply": "2022-06-08T20:39:16.770120Z"
    },
    "papermill": {
     "duration": 0.670518,
     "end_time": "2022-06-08T20:39:16.774088",
     "exception": false,
     "start_time": "2022-06-08T20:39:16.103570",
     "status": "completed"
    },
    "tags": []
   },
   "outputs": [
    {
     "data": {
      "image/png": "[encoded data removed]",
      "text/plain": [
       "<Figure size 432x288 with 1 Axes>"
      ]
     },
     "metadata": {
      "needs_background": "light"
     },
     "output_type": "display_data"
    }
   ],
   "source": [
    "# Relationship between Annual Salary X Job Title\n",
    "\n",
    "plt.scatter(corr_salary_df['Job Titles'], corr_salary_df.index, alpha=0.5, c=colors)\n",
    "\n",
    "plt.xlabel('Job Title Code')\n",
    "plt.ylabel('Annual Salary - U$')\n",
    "plt.title('Annual Salary X Job Title')\n",
    "\n",
    "plt.show()"
   ]
  },
  {
   "cell_type": "markdown",
   "id": "84af333a",
   "metadata": {
    "papermill": {
     "duration": 0.021566,
     "end_time": "2022-06-08T20:39:16.817424",
     "exception": false,
     "start_time": "2022-06-08T20:39:16.795858",
     "status": "completed"
    },
    "tags": []
   },
   "source": [
    "<p>Realized that the avg annual salary in the Job Titles is around <b>U$ 100,000.00</b>, which means, the avg monthly salary is around <b>8,333.33 bucks</b>.</p>"
   ]
  },
  {
   "cell_type": "code",
   "execution_count": 21,
   "id": "8acf72da",
   "metadata": {
    "execution": {
     "iopub.execute_input": "2022-06-08T20:39:16.871258Z",
     "iopub.status.busy": "2022-06-08T20:39:16.870026Z",
     "iopub.status.idle": "2022-06-08T20:39:17.503242Z",
     "shell.execute_reply": "2022-06-08T20:39:17.502271Z"
    },
    "papermill": {
     "duration": 0.667576,
     "end_time": "2022-06-08T20:39:17.505780",
     "exception": false,
     "start_time": "2022-06-08T20:39:16.838204",
     "status": "completed"
    },
    "tags": []
   },
   "outputs": [
    {
     "data": {
      "image/png": "[encoded data removed]",
      "text/plain": [
       "<Figure size 432x288 with 1 Axes>"
      ]
     },
     "metadata": {
      "needs_background": "light"
     },
     "output_type": "display_data"
    }
   ],
   "source": [
    "# Relationship between Annual Salary X Department\n",
    "\n",
    "plt.scatter(corr_salary_df['Department'], corr_salary_df.index, alpha=0.5, c=colors)\n",
    "\n",
    "plt.xlabel('Department Code')\n",
    "plt.ylabel('Annual Salary - U$')\n",
    "plt.title('Annual Salary X Department')\n",
    "\n",
    "plt.show()"
   ]
  },
  {
   "cell_type": "markdown",
   "id": "20752396",
   "metadata": {
    "papermill": {
     "duration": 0.02326,
     "end_time": "2022-06-08T20:39:17.551821",
     "exception": false,
     "start_time": "2022-06-08T20:39:17.528561",
     "status": "completed"
    },
    "tags": []
   },
   "source": [
    "<p>We realized that there are employees that work at the same department but get different salary. It happens due to numerous reason, such as promotions, time of job at the company and education degree.</p>"
   ]
  },
  {
   "cell_type": "markdown",
   "id": "82f471c8",
   "metadata": {
    "papermill": {
     "duration": 0.022808,
     "end_time": "2022-06-08T20:39:17.597954",
     "exception": false,
     "start_time": "2022-06-08T20:39:17.575146",
     "status": "completed"
    },
    "tags": []
   },
   "source": [
    "----\n",
    "\n",
    "<h1 style=\"color: blue\">1 - Hourly Employees</h1>"
   ]
  },
  {
   "cell_type": "markdown",
   "id": "a636a3db",
   "metadata": {
    "papermill": {
     "duration": 0.022661,
     "end_time": "2022-06-08T20:39:17.644011",
     "exception": false,
     "start_time": "2022-06-08T20:39:17.621350",
     "status": "completed"
    },
    "tags": []
   },
   "source": [
    "<b>Getting the five most and less paid employees</b>"
   ]
  },
  {
   "cell_type": "code",
   "execution_count": 22,
   "id": "9f2e8080",
   "metadata": {
    "execution": {
     "iopub.execute_input": "2022-06-08T20:39:17.692202Z",
     "iopub.status.busy": "2022-06-08T20:39:17.691783Z",
     "iopub.status.idle": "2022-06-08T20:39:17.703913Z",
     "shell.execute_reply": "2022-06-08T20:39:17.702995Z"
    },
    "papermill": {
     "duration": 0.038718,
     "end_time": "2022-06-08T20:39:17.705937",
     "exception": false,
     "start_time": "2022-06-08T20:39:17.667219",
     "status": "completed"
    },
    "tags": []
   },
   "outputs": [
    {
     "data": {
      "text/plain": [
       "Name                 0\n",
       "Job Titles           0\n",
       "Department           0\n",
       "Full or Part-Time    0\n",
       "Typical Hours        0\n",
       "Hourly Rate          0\n",
       "dtype: int64"
      ]
     },
     "execution_count": 22,
     "metadata": {},
     "output_type": "execute_result"
    }
   ],
   "source": [
    "# First let's check out how many null values we have into 'hourly_df'\n",
    "\n",
    "hourly_df.isnull().sum()"
   ]
  },
  {
   "cell_type": "code",
   "execution_count": 23,
   "id": "e6b2a989",
   "metadata": {
    "execution": {
     "iopub.execute_input": "2022-06-08T20:39:17.754899Z",
     "iopub.status.busy": "2022-06-08T20:39:17.753966Z",
     "iopub.status.idle": "2022-06-08T20:39:17.765638Z",
     "shell.execute_reply": "2022-06-08T20:39:17.764632Z"
    },
    "papermill": {
     "duration": 0.038994,
     "end_time": "2022-06-08T20:39:17.768314",
     "exception": false,
     "start_time": "2022-06-08T20:39:17.729320",
     "status": "completed"
    },
    "tags": []
   },
   "outputs": [],
   "source": [
    "# sorting the rows by 'Hourly Rate' column in ascending and descending order\n",
    "# and get the top five of them\n",
    "five_most_paid = hourly_df.sort_values('Hourly Rate', ascending=False)[0:5]\n",
    "five_most_paid = five_most_paid.set_index(pd.Index([0, 1, 2, 3, 4]))\n",
    "\n",
    "five_less_paid = hourly_df.sort_values('Hourly Rate', ascending=True)[0:5]\n",
    "five_less_paid = five_less_paid.set_index(pd.Index([0, 1, 2, 3, 4]))"
   ]
  },
  {
   "cell_type": "code",
   "execution_count": 24,
   "id": "dd7739ba",
   "metadata": {
    "execution": {
     "iopub.execute_input": "2022-06-08T20:39:17.816900Z",
     "iopub.status.busy": "2022-06-08T20:39:17.816456Z",
     "iopub.status.idle": "2022-06-08T20:39:17.828196Z",
     "shell.execute_reply": "2022-06-08T20:39:17.826429Z"
    },
    "papermill": {
     "duration": 0.038735,
     "end_time": "2022-06-08T20:39:17.830516",
     "exception": false,
     "start_time": "2022-06-08T20:39:17.791781",
     "status": "completed"
    },
    "tags": []
   },
   "outputs": [
    {
     "name": "stdout",
     "output_type": "stream",
     "text": [
      "***************************\n",
      "* Five Most Paid Employes *\n",
      "***************************\n",
      "\n",
      "Top # 1\n",
      "----\n",
      "Name:  RAO,  ANITA\n",
      "Job Title:  PSYCHIATRIST\n",
      "Department:  HEALTH\n",
      "Type of Time:  Full-Time\n",
      "Typical Hours:  35.0  hours\n",
      "Hourly Rate: U$ 134.4\n",
      "\n",
      "Top # 2\n",
      "----\n",
      "Name:  JONES,  JOHN W\n",
      "Job Title:  PSYCHIATRIST\n",
      "Department:  HEALTH\n",
      "Type of Time:  Full-Time\n",
      "Typical Hours:  35.0  hours\n",
      "Hourly Rate: U$ 134.4\n",
      "\n",
      "Top # 3\n",
      "----\n",
      "Name:  RUFFIN,  LARITA A\n",
      "Job Title:  PARKING ENFORCEMENT AIDE\n",
      "Department:  FINANCE\n",
      "Type of Time:  Part-Time\n",
      "Typical Hours:  20.0  hours\n",
      "Hourly Rate: U$ 128.97\n",
      "\n",
      "Top # 4\n",
      "----\n",
      "Name:  JILEK,  GEORGE J\n",
      "Job Title:  DENTIST\n",
      "Department:  HEALTH\n",
      "Type of Time:  Full-Time\n",
      "Typical Hours:  35.0  hours\n",
      "Hourly Rate: U$ 64.3\n",
      "\n",
      "Top # 5\n",
      "----\n",
      "Name:  HUGHES,  THOMAS J\n",
      "Job Title:  FOREMAN OF LINEMEN\n",
      "Department:  TRANSPORTN\n",
      "Type of Time:  Full-Time\n",
      "Typical Hours:  40.0  hours\n",
      "Hourly Rate: U$ 62.05\n"
     ]
    }
   ],
   "source": [
    "### Five Most Paid ###\n",
    "five_most_paid_title = '* Five Most Paid Employes *'\n",
    "\n",
    "print('*' * len(five_most_paid_title))\n",
    "print(five_most_paid_title)\n",
    "print('*' * len(five_most_paid_title))\n",
    "\n",
    "for top_position in range(len(five_most_paid)):\n",
    "    print()\n",
    "    print('Top #', top_position + 1)\n",
    "    print('----')\n",
    "    print('Name: ', five_most_paid.at[top_position, 'Name'])\n",
    "    print('Job Title: ', five_most_paid.at[top_position, 'Job Titles'])\n",
    "    print('Department: ', five_most_paid.at[top_position, 'Department'])\n",
    "    \n",
    "    print('Type of Time: ', 'Full-Time' \\\n",
    "          if five_most_paid.at[top_position, 'Full or Part-Time'] == 'F' \\\n",
    "          else 'Part-Time')\n",
    "    \n",
    "    print('Typical Hours: ', five_most_paid.at[top_position, 'Typical Hours'], ' hours')\n",
    "    print('Hourly Rate: U$', five_most_paid.at[top_position, 'Hourly Rate'])"
   ]
  },
  {
   "cell_type": "code",
   "execution_count": 25,
   "id": "da702b14",
   "metadata": {
    "execution": {
     "iopub.execute_input": "2022-06-08T20:39:17.879020Z",
     "iopub.status.busy": "2022-06-08T20:39:17.878361Z",
     "iopub.status.idle": "2022-06-08T20:39:17.888986Z",
     "shell.execute_reply": "2022-06-08T20:39:17.887945Z"
    },
    "papermill": {
     "duration": 0.037713,
     "end_time": "2022-06-08T20:39:17.891590",
     "exception": false,
     "start_time": "2022-06-08T20:39:17.853877",
     "status": "completed"
    },
    "tags": []
   },
   "outputs": [
    {
     "name": "stdout",
     "output_type": "stream",
     "text": [
      "***************************\n",
      "* Five Less Paid Employes *\n",
      "***************************\n",
      "\n",
      "Top # 1\n",
      "----\n",
      "Name:  FELKER,  CAROLYN\n",
      "Job Title:  SENIOR COMPANION\n",
      "Department:  FAMILY & SUPPORT\n",
      "Type of Time:  Part-Time\n",
      "Typical Hours:  20.0  hours\n",
      "Hourly Rate: U$ 3.0\n",
      "\n",
      "Top # 2\n",
      "----\n",
      "Name:  GAILES,  RITA\n",
      "Job Title:  FOSTER GRANDPARENT\n",
      "Department:  FAMILY & SUPPORT\n",
      "Type of Time:  Part-Time\n",
      "Typical Hours:  20.0  hours\n",
      "Hourly Rate: U$ 3.0\n",
      "\n",
      "Top # 3\n",
      "----\n",
      "Name:  WILLIAMS,  BRENDA\n",
      "Job Title:  FOSTER GRANDPARENT\n",
      "Department:  FAMILY & SUPPORT\n",
      "Type of Time:  Part-Time\n",
      "Typical Hours:  20.0  hours\n",
      "Hourly Rate: U$ 3.0\n",
      "\n",
      "Top # 4\n",
      "----\n",
      "Name:  MCGEE,  ARIE\n",
      "Job Title:  SENIOR COMPANION\n",
      "Department:  FAMILY & SUPPORT\n",
      "Type of Time:  Part-Time\n",
      "Typical Hours:  20.0  hours\n",
      "Hourly Rate: U$ 3.0\n",
      "\n",
      "Top # 5\n",
      "----\n",
      "Name:  STEWART,  BARBARA\n",
      "Job Title:  SENIOR COMPANION\n",
      "Department:  FAMILY & SUPPORT\n",
      "Type of Time:  Part-Time\n",
      "Typical Hours:  20.0  hours\n",
      "Hourly Rate: U$ 3.0\n"
     ]
    }
   ],
   "source": [
    "### Five Less Paid ###\n",
    "five_less_paid_title = '* Five Less Paid Employes *'\n",
    "\n",
    "print('*' * len(five_less_paid_title))\n",
    "print(five_less_paid_title)\n",
    "print('*' * len(five_less_paid_title))\n",
    "\n",
    "for top_position in range(len(five_less_paid)):\n",
    "    print()\n",
    "    print('Top #', top_position + 1)\n",
    "    print('----')\n",
    "    print('Name: ', five_less_paid.at[top_position, 'Name'])\n",
    "    print('Job Title: ', five_less_paid.at[top_position, 'Job Titles'])\n",
    "    print('Department: ', five_less_paid.at[top_position, 'Department'])\n",
    "    \n",
    "    print('Type of Time: ', 'Full-Time' \\\n",
    "          if five_less_paid.at[top_position, 'Full or Part-Time'] == 'F' \\\n",
    "          else 'Part-Time')\n",
    "    \n",
    "    print('Typical Hours: ', five_less_paid.at[top_position, 'Typical Hours'], ' hours')\n",
    "    print('Hourly Rate: U$', five_less_paid.at[top_position, 'Hourly Rate'])"
   ]
  },
  {
   "cell_type": "markdown",
   "id": "7a31d994",
   "metadata": {
    "papermill": {
     "duration": 0.023288,
     "end_time": "2022-06-08T20:39:17.938176",
     "exception": false,
     "start_time": "2022-06-08T20:39:17.914888",
     "status": "completed"
    },
    "tags": []
   },
   "source": [
    "----\n",
    "\n",
    "<b>Getting the five most and less paid Job Titles (avg)</b>"
   ]
  },
  {
   "cell_type": "code",
   "execution_count": 26,
   "id": "b52d7582",
   "metadata": {
    "execution": {
     "iopub.execute_input": "2022-06-08T20:39:17.987055Z",
     "iopub.status.busy": "2022-06-08T20:39:17.986638Z",
     "iopub.status.idle": "2022-06-08T20:39:17.998161Z",
     "shell.execute_reply": "2022-06-08T20:39:17.996992Z"
    },
    "papermill": {
     "duration": 0.03833,
     "end_time": "2022-06-08T20:39:18.000481",
     "exception": false,
     "start_time": "2022-06-08T20:39:17.962151",
     "status": "completed"
    },
    "tags": []
   },
   "outputs": [],
   "source": [
    "\"\"\" \n",
    "Getting the avg salary for each job title:\n",
    "\n",
    "\\ We first group the 'Hourly Rate' column by each 'Job Titles' and, to don't have\n",
    "a list of salaries, we get the 'sum()' of this aggregation;\n",
    "\n",
    "\\ After that, we divide each result of the aggregation by the amount of datas we have\n",
    "in each Job Title in order to get the Hoourly Rate Average. Oh, and we round each result\n",
    "to 2 decimal digits;\n",
    "\n",
    "\\ In the end, we sort the new dataframe in descending order (higher avg to lower avg)\n",
    "\"\"\"\n",
    "\n",
    "avg_hourly_df = round(hourly_df.groupby('Job Titles')['Hourly Rate'].sum() \\\n",
    "                / hourly_df.groupby('Job Titles')['Hourly Rate'].count(), 2)\n",
    "\n",
    "avg_hourly_df = avg_hourly_df.sort_values(ascending=False)"
   ]
  },
  {
   "cell_type": "code",
   "execution_count": 27,
   "id": "10a6b6ba",
   "metadata": {
    "execution": {
     "iopub.execute_input": "2022-06-08T20:39:18.049575Z",
     "iopub.status.busy": "2022-06-08T20:39:18.049112Z",
     "iopub.status.idle": "2022-06-08T20:39:18.057846Z",
     "shell.execute_reply": "2022-06-08T20:39:18.057066Z"
    },
    "papermill": {
     "duration": 0.035673,
     "end_time": "2022-06-08T20:39:18.059899",
     "exception": false,
     "start_time": "2022-06-08T20:39:18.024226",
     "status": "completed"
    },
    "tags": []
   },
   "outputs": [
    {
     "data": {
      "text/plain": [
       "Job Titles\n",
       "PSYCHIATRIST                    134.40\n",
       "PARKING ENFORCEMENT AIDE        128.97\n",
       "DENTIST                          64.30\n",
       "FOREMAN OF LINEMEN               62.05\n",
       "ASST CORPORATION COUNSEL III     59.47\n",
       "                                 ...  \n",
       "HOSPITALITY WORKER               15.00\n",
       "LIBRARY PAGE                     15.00\n",
       "LAW CLERK                        15.00\n",
       "FOSTER GRANDPARENT                3.00\n",
       "SENIOR COMPANION                  3.00\n",
       "Name: Hourly Rate, Length: 136, dtype: float64"
      ]
     },
     "execution_count": 27,
     "metadata": {},
     "output_type": "execute_result"
    }
   ],
   "source": [
    "avg_hourly_df"
   ]
  },
  {
   "cell_type": "code",
   "execution_count": 28,
   "id": "11d3325b",
   "metadata": {
    "execution": {
     "iopub.execute_input": "2022-06-08T20:39:18.109289Z",
     "iopub.status.busy": "2022-06-08T20:39:18.108864Z",
     "iopub.status.idle": "2022-06-08T20:39:18.117396Z",
     "shell.execute_reply": "2022-06-08T20:39:18.116424Z"
    },
    "papermill": {
     "duration": 0.03552,
     "end_time": "2022-06-08T20:39:18.119383",
     "exception": false,
     "start_time": "2022-06-08T20:39:18.083863",
     "status": "completed"
    },
    "tags": []
   },
   "outputs": [],
   "source": [
    "\"\"\"\n",
    "Getting the five most and less paid Job Titles:\n",
    "\n",
    "\\ With the sorted dataset, we get the five most paid jobs (first top five >> head)\n",
    "and the five less paid jobs (last top five >> tail)\n",
    "\n",
    "\\ After that, to use a new index sequence, we reset the dataframes indexes; e.g.:\n",
    "\n",
    "    - Before indexes being reset\n",
    "    \n",
    "     2789 | Job 1 | Avg 1\n",
    "     3210 | Job 2 | Avg 2\n",
    "    12049 | Job 3 | Avg 3\n",
    "    \n",
    "    - After indexes being reset\n",
    "    \n",
    "    0 | Job 1 | Avg 1\n",
    "    1 | Job 2 | Avg 2\n",
    "    2 | Job 3 | Avg 3\n",
    "    \n",
    "\"\"\"\n",
    "five_most_paid_job_titles = avg_hourly_df.head()\n",
    "five_less_paid_job_titles = avg_hourly_df.tail()\n",
    "\n",
    "\n",
    "five_most_paid_job_titles = five_most_paid_job_titles.reset_index()\n",
    "five_less_paid_job_titles = five_less_paid_job_titles.reset_index()"
   ]
  },
  {
   "cell_type": "code",
   "execution_count": 29,
   "id": "54990d76",
   "metadata": {
    "execution": {
     "iopub.execute_input": "2022-06-08T20:39:18.169368Z",
     "iopub.status.busy": "2022-06-08T20:39:18.168941Z",
     "iopub.status.idle": "2022-06-08T20:39:18.179065Z",
     "shell.execute_reply": "2022-06-08T20:39:18.177064Z"
    },
    "papermill": {
     "duration": 0.037526,
     "end_time": "2022-06-08T20:39:18.181537",
     "exception": false,
     "start_time": "2022-06-08T20:39:18.144011",
     "status": "completed"
    },
    "tags": []
   },
   "outputs": [
    {
     "name": "stdout",
     "output_type": "stream",
     "text": [
      "*****************************\n",
      "* Five Most Paid Job Titles *\n",
      "*****************************\n",
      "\n",
      "Top # 1\n",
      "----\n",
      "Job Title:  PSYCHIATRIST\n",
      "Hourly Rate: U$ 134.4\n",
      "\n",
      "Top # 2\n",
      "----\n",
      "Job Title:  PARKING ENFORCEMENT AIDE\n",
      "Hourly Rate: U$ 128.97\n",
      "\n",
      "Top # 3\n",
      "----\n",
      "Job Title:  DENTIST\n",
      "Hourly Rate: U$ 64.3\n",
      "\n",
      "Top # 4\n",
      "----\n",
      "Job Title:  FOREMAN OF LINEMEN\n",
      "Hourly Rate: U$ 62.05\n",
      "\n",
      "Top # 5\n",
      "----\n",
      "Job Title:  ASST CORPORATION COUNSEL III\n",
      "Hourly Rate: U$ 59.47\n"
     ]
    }
   ],
   "source": [
    "### Five Most Paid Job Titles ###\n",
    "\n",
    "five_most_paid_job_titles_title = '* Five Most Paid Job Titles *'\n",
    "\n",
    "print('*' * len(five_most_paid_job_titles_title))\n",
    "print(five_most_paid_job_titles_title)\n",
    "print('*' * len(five_most_paid_job_titles_title))\n",
    "\n",
    "for top_position in range(len(five_most_paid_job_titles)):\n",
    "    print()\n",
    "    print('Top #', top_position + 1)\n",
    "    print('----')\n",
    "    print('Job Title: ', five_most_paid_job_titles.at[top_position, 'Job Titles'])\n",
    "    print('Hourly Rate: U$', five_most_paid_job_titles.at[top_position, 'Hourly Rate'])"
   ]
  },
  {
   "cell_type": "code",
   "execution_count": 30,
   "id": "22983034",
   "metadata": {
    "execution": {
     "iopub.execute_input": "2022-06-08T20:39:18.230573Z",
     "iopub.status.busy": "2022-06-08T20:39:18.230164Z",
     "iopub.status.idle": "2022-06-08T20:39:18.237989Z",
     "shell.execute_reply": "2022-06-08T20:39:18.236831Z"
    },
    "papermill": {
     "duration": 0.035424,
     "end_time": "2022-06-08T20:39:18.240716",
     "exception": false,
     "start_time": "2022-06-08T20:39:18.205292",
     "status": "completed"
    },
    "tags": []
   },
   "outputs": [
    {
     "name": "stdout",
     "output_type": "stream",
     "text": [
      "*****************************\n",
      "* Five Less Paid Job Titles *\n",
      "*****************************\n",
      "\n",
      "Top # 1\n",
      "----\n",
      "Job Title:  HOSPITALITY WORKER\n",
      "Hourly Rate: U$ 15.0\n",
      "\n",
      "Top # 2\n",
      "----\n",
      "Job Title:  LIBRARY PAGE\n",
      "Hourly Rate: U$ 15.0\n",
      "\n",
      "Top # 3\n",
      "----\n",
      "Job Title:  LAW CLERK\n",
      "Hourly Rate: U$ 15.0\n",
      "\n",
      "Top # 4\n",
      "----\n",
      "Job Title:  FOSTER GRANDPARENT\n",
      "Hourly Rate: U$ 3.0\n",
      "\n",
      "Top # 5\n",
      "----\n",
      "Job Title:  SENIOR COMPANION\n",
      "Hourly Rate: U$ 3.0\n"
     ]
    }
   ],
   "source": [
    "### Five Less Paid Job Titles ###\n",
    "\n",
    "five_less_paid_job_titles_title = '* Five Less Paid Job Titles *'\n",
    "\n",
    "print('*' * len(five_less_paid_job_titles_title))\n",
    "print(five_less_paid_job_titles_title)\n",
    "print('*' * len(five_less_paid_job_titles_title))\n",
    "\n",
    "for top_position in range(len(five_less_paid_job_titles)):\n",
    "    print()\n",
    "    print('Top #', top_position + 1)\n",
    "    print('----')\n",
    "    print('Job Title: ', five_less_paid_job_titles.at[top_position, 'Job Titles'])\n",
    "    print('Hourly Rate: U$', five_less_paid_job_titles.at[top_position, 'Hourly Rate'])"
   ]
  },
  {
   "cell_type": "code",
   "execution_count": 31,
   "id": "8af7f618",
   "metadata": {
    "execution": {
     "iopub.execute_input": "2022-06-08T20:39:18.289988Z",
     "iopub.status.busy": "2022-06-08T20:39:18.289618Z",
     "iopub.status.idle": "2022-06-08T20:39:18.299916Z",
     "shell.execute_reply": "2022-06-08T20:39:18.298782Z"
    },
    "papermill": {
     "duration": 0.037707,
     "end_time": "2022-06-08T20:39:18.302017",
     "exception": false,
     "start_time": "2022-06-08T20:39:18.264310",
     "status": "completed"
    },
    "tags": []
   },
   "outputs": [
    {
     "data": {
      "text/html": [
       "<div>\n",
       "<style scoped>\n",
       "    .dataframe tbody tr th:only-of-type {\n",
       "        vertical-align: middle;\n",
       "    }\n",
       "\n",
       "    .dataframe tbody tr th {\n",
       "        vertical-align: top;\n",
       "    }\n",
       "\n",
       "    .dataframe thead th {\n",
       "        text-align: right;\n",
       "    }\n",
       "</style>\n",
       "<table border=\"1\" class=\"dataframe\">\n",
       "  <thead>\n",
       "    <tr style=\"text-align: right;\">\n",
       "      <th></th>\n",
       "      <th>Job Titles</th>\n",
       "      <th>Hourly Rate</th>\n",
       "    </tr>\n",
       "  </thead>\n",
       "  <tbody>\n",
       "    <tr>\n",
       "      <th>0</th>\n",
       "      <td>HOSPITALITY WORKER</td>\n",
       "      <td>15.0</td>\n",
       "    </tr>\n",
       "    <tr>\n",
       "      <th>1</th>\n",
       "      <td>LIBRARY PAGE</td>\n",
       "      <td>15.0</td>\n",
       "    </tr>\n",
       "    <tr>\n",
       "      <th>2</th>\n",
       "      <td>LAW CLERK</td>\n",
       "      <td>15.0</td>\n",
       "    </tr>\n",
       "    <tr>\n",
       "      <th>3</th>\n",
       "      <td>FOSTER GRANDPARENT</td>\n",
       "      <td>3.0</td>\n",
       "    </tr>\n",
       "    <tr>\n",
       "      <th>4</th>\n",
       "      <td>SENIOR COMPANION</td>\n",
       "      <td>3.0</td>\n",
       "    </tr>\n",
       "  </tbody>\n",
       "</table>\n",
       "</div>"
      ],
      "text/plain": [
       "           Job Titles  Hourly Rate\n",
       "0  HOSPITALITY WORKER         15.0\n",
       "1        LIBRARY PAGE         15.0\n",
       "2           LAW CLERK         15.0\n",
       "3  FOSTER GRANDPARENT          3.0\n",
       "4    SENIOR COMPANION          3.0"
      ]
     },
     "execution_count": 31,
     "metadata": {},
     "output_type": "execute_result"
    }
   ],
   "source": [
    "five_less_paid_job_titles"
   ]
  },
  {
   "cell_type": "markdown",
   "id": "c21c04a0",
   "metadata": {
    "papermill": {
     "duration": 0.024592,
     "end_time": "2022-06-08T20:39:18.352313",
     "exception": false,
     "start_time": "2022-06-08T20:39:18.327721",
     "status": "completed"
    },
    "tags": []
   },
   "source": [
    "----\n",
    "\n",
    "<b>Variable Correlation Plot</b>"
   ]
  },
  {
   "cell_type": "code",
   "execution_count": 32,
   "id": "94c199bc",
   "metadata": {
    "execution": {
     "iopub.execute_input": "2022-06-08T20:39:18.403817Z",
     "iopub.status.busy": "2022-06-08T20:39:18.403385Z",
     "iopub.status.idle": "2022-06-08T20:39:18.497054Z",
     "shell.execute_reply": "2022-06-08T20:39:18.496267Z"
    },
    "papermill": {
     "duration": 0.121972,
     "end_time": "2022-06-08T20:39:18.499236",
     "exception": false,
     "start_time": "2022-06-08T20:39:18.377264",
     "status": "completed"
    },
    "tags": []
   },
   "outputs": [],
   "source": [
    "\"\"\"\n",
    "To the correlation, we don't need the 'Name' column, because the person's name\n",
    "doesn't interfere in how much this person will gain per year.\n",
    "\n",
    "Also, as far the correlation uses numbers only, we have to transform the\n",
    "categorical variables into numbers before getting the plot. The categorical\n",
    "variables that we need to transform are 'Job Titles', 'Department' and 'Full or\n",
    "Part-Time' columns\n",
    "\"\"\"\n",
    "\n",
    "# Getting a new dataframe excluding the 'Name' column\n",
    "corr_hourly_df = hourly_df.iloc[:, 1:]\n",
    "\n",
    "# Ennumareting the Binary Categorical Variables ('Full or Part-Time' column)\n",
    "#\n",
    "# 'P' values transform into 0\n",
    "# 'F' values transform into 1\n",
    "corr_hourly_df['Full or Part-Time'].replace(['P', 'F'], [0, 1], inplace=True)\n",
    "\n",
    "# Enumerating the 'Job Titles' column by index\n",
    "job_titles = corr_hourly_df['Job Titles'].unique()\n",
    "job_titles_index = [index for index in range(len(job_titles))]\n",
    "\n",
    "corr_hourly_df['Job Titles'].replace(job_titles, job_titles_index, inplace=True)\n",
    "\n",
    "# Enumerating the 'Department' column by index\n",
    "department = corr_hourly_df['Department'].unique()\n",
    "department_index = [index for index in range(len(department))]\n",
    "\n",
    "corr_hourly_df['Department'].replace(department, department_index, inplace=True)"
   ]
  },
  {
   "cell_type": "code",
   "execution_count": 33,
   "id": "d0194d76",
   "metadata": {
    "execution": {
     "iopub.execute_input": "2022-06-08T20:39:18.548778Z",
     "iopub.status.busy": "2022-06-08T20:39:18.548140Z",
     "iopub.status.idle": "2022-06-08T20:39:18.563062Z",
     "shell.execute_reply": "2022-06-08T20:39:18.562118Z"
    },
    "papermill": {
     "duration": 0.042958,
     "end_time": "2022-06-08T20:39:18.565930",
     "exception": false,
     "start_time": "2022-06-08T20:39:18.522972",
     "status": "completed"
    },
    "tags": []
   },
   "outputs": [
    {
     "data": {
      "text/html": [
       "<div>\n",
       "<style scoped>\n",
       "    .dataframe tbody tr th:only-of-type {\n",
       "        vertical-align: middle;\n",
       "    }\n",
       "\n",
       "    .dataframe tbody tr th {\n",
       "        vertical-align: top;\n",
       "    }\n",
       "\n",
       "    .dataframe thead th {\n",
       "        text-align: right;\n",
       "    }\n",
       "</style>\n",
       "<table border=\"1\" class=\"dataframe\">\n",
       "  <thead>\n",
       "    <tr style=\"text-align: right;\">\n",
       "      <th></th>\n",
       "      <th>Job Titles</th>\n",
       "      <th>Department</th>\n",
       "      <th>Full or Part-Time</th>\n",
       "      <th>Typical Hours</th>\n",
       "      <th>Hourly Rate</th>\n",
       "    </tr>\n",
       "  </thead>\n",
       "  <tbody>\n",
       "    <tr>\n",
       "      <th>3</th>\n",
       "      <td>0</td>\n",
       "      <td>0</td>\n",
       "      <td>1</td>\n",
       "      <td>40.0</td>\n",
       "      <td>45.90</td>\n",
       "    </tr>\n",
       "    <tr>\n",
       "      <th>5</th>\n",
       "      <td>1</td>\n",
       "      <td>1</td>\n",
       "      <td>1</td>\n",
       "      <td>40.0</td>\n",
       "      <td>51.00</td>\n",
       "    </tr>\n",
       "    <tr>\n",
       "      <th>8</th>\n",
       "      <td>2</td>\n",
       "      <td>2</td>\n",
       "      <td>0</td>\n",
       "      <td>20.0</td>\n",
       "      <td>3.00</td>\n",
       "    </tr>\n",
       "    <tr>\n",
       "      <th>20</th>\n",
       "      <td>3</td>\n",
       "      <td>3</td>\n",
       "      <td>0</td>\n",
       "      <td>10.0</td>\n",
       "      <td>39.25</td>\n",
       "    </tr>\n",
       "    <tr>\n",
       "      <th>36</th>\n",
       "      <td>3</td>\n",
       "      <td>3</td>\n",
       "      <td>1</td>\n",
       "      <td>40.0</td>\n",
       "      <td>39.25</td>\n",
       "    </tr>\n",
       "    <tr>\n",
       "      <th>...</th>\n",
       "      <td>...</td>\n",
       "      <td>...</td>\n",
       "      <td>...</td>\n",
       "      <td>...</td>\n",
       "      <td>...</td>\n",
       "    </tr>\n",
       "    <tr>\n",
       "      <th>31077</th>\n",
       "      <td>15</td>\n",
       "      <td>7</td>\n",
       "      <td>1</td>\n",
       "      <td>40.0</td>\n",
       "      <td>45.90</td>\n",
       "    </tr>\n",
       "    <tr>\n",
       "      <th>31080</th>\n",
       "      <td>23</td>\n",
       "      <td>8</td>\n",
       "      <td>0</td>\n",
       "      <td>20.0</td>\n",
       "      <td>25.00</td>\n",
       "    </tr>\n",
       "    <tr>\n",
       "      <th>31081</th>\n",
       "      <td>68</td>\n",
       "      <td>4</td>\n",
       "      <td>1</td>\n",
       "      <td>40.0</td>\n",
       "      <td>53.18</td>\n",
       "    </tr>\n",
       "    <tr>\n",
       "      <th>31084</th>\n",
       "      <td>1</td>\n",
       "      <td>11</td>\n",
       "      <td>1</td>\n",
       "      <td>40.0</td>\n",
       "      <td>51.00</td>\n",
       "    </tr>\n",
       "    <tr>\n",
       "      <th>31089</th>\n",
       "      <td>10</td>\n",
       "      <td>7</td>\n",
       "      <td>1</td>\n",
       "      <td>40.0</td>\n",
       "      <td>39.25</td>\n",
       "    </tr>\n",
       "  </tbody>\n",
       "</table>\n",
       "<p>6814 rows × 5 columns</p>\n",
       "</div>"
      ],
      "text/plain": [
       "       Job Titles  Department  Full or Part-Time  Typical Hours  Hourly Rate\n",
       "3               0           0                  1           40.0        45.90\n",
       "5               1           1                  1           40.0        51.00\n",
       "8               2           2                  0           20.0         3.00\n",
       "20              3           3                  0           10.0        39.25\n",
       "36              3           3                  1           40.0        39.25\n",
       "...           ...         ...                ...            ...          ...\n",
       "31077          15           7                  1           40.0        45.90\n",
       "31080          23           8                  0           20.0        25.00\n",
       "31081          68           4                  1           40.0        53.18\n",
       "31084           1          11                  1           40.0        51.00\n",
       "31089          10           7                  1           40.0        39.25\n",
       "\n",
       "[6814 rows x 5 columns]"
      ]
     },
     "execution_count": 33,
     "metadata": {},
     "output_type": "execute_result"
    }
   ],
   "source": [
    "# Checking oout the transformed correlation dataframe\n",
    "corr_hourly_df"
   ]
  },
  {
   "cell_type": "code",
   "execution_count": 34,
   "id": "cd0b4146",
   "metadata": {
    "execution": {
     "iopub.execute_input": "2022-06-08T20:39:18.617084Z",
     "iopub.status.busy": "2022-06-08T20:39:18.616254Z",
     "iopub.status.idle": "2022-06-08T20:39:18.632872Z",
     "shell.execute_reply": "2022-06-08T20:39:18.632155Z"
    },
    "papermill": {
     "duration": 0.043978,
     "end_time": "2022-06-08T20:39:18.634786",
     "exception": false,
     "start_time": "2022-06-08T20:39:18.590808",
     "status": "completed"
    },
    "tags": []
   },
   "outputs": [
    {
     "data": {
      "text/html": [
       "<div>\n",
       "<style scoped>\n",
       "    .dataframe tbody tr th:only-of-type {\n",
       "        vertical-align: middle;\n",
       "    }\n",
       "\n",
       "    .dataframe tbody tr th {\n",
       "        vertical-align: top;\n",
       "    }\n",
       "\n",
       "    .dataframe thead th {\n",
       "        text-align: right;\n",
       "    }\n",
       "</style>\n",
       "<table border=\"1\" class=\"dataframe\">\n",
       "  <thead>\n",
       "    <tr style=\"text-align: right;\">\n",
       "      <th></th>\n",
       "      <th>Job Titles</th>\n",
       "      <th>Department</th>\n",
       "      <th>Full or Part-Time</th>\n",
       "      <th>Typical Hours</th>\n",
       "    </tr>\n",
       "    <tr>\n",
       "      <th>Hourly Rate</th>\n",
       "      <th></th>\n",
       "      <th></th>\n",
       "      <th></th>\n",
       "      <th></th>\n",
       "    </tr>\n",
       "  </thead>\n",
       "  <tbody>\n",
       "    <tr>\n",
       "      <th>45.90</th>\n",
       "      <td>0</td>\n",
       "      <td>0</td>\n",
       "      <td>1</td>\n",
       "      <td>40.0</td>\n",
       "    </tr>\n",
       "    <tr>\n",
       "      <th>51.00</th>\n",
       "      <td>1</td>\n",
       "      <td>1</td>\n",
       "      <td>1</td>\n",
       "      <td>40.0</td>\n",
       "    </tr>\n",
       "    <tr>\n",
       "      <th>3.00</th>\n",
       "      <td>2</td>\n",
       "      <td>2</td>\n",
       "      <td>0</td>\n",
       "      <td>20.0</td>\n",
       "    </tr>\n",
       "    <tr>\n",
       "      <th>39.25</th>\n",
       "      <td>3</td>\n",
       "      <td>3</td>\n",
       "      <td>0</td>\n",
       "      <td>10.0</td>\n",
       "    </tr>\n",
       "    <tr>\n",
       "      <th>39.25</th>\n",
       "      <td>3</td>\n",
       "      <td>3</td>\n",
       "      <td>1</td>\n",
       "      <td>40.0</td>\n",
       "    </tr>\n",
       "    <tr>\n",
       "      <th>...</th>\n",
       "      <td>...</td>\n",
       "      <td>...</td>\n",
       "      <td>...</td>\n",
       "      <td>...</td>\n",
       "    </tr>\n",
       "    <tr>\n",
       "      <th>45.90</th>\n",
       "      <td>15</td>\n",
       "      <td>7</td>\n",
       "      <td>1</td>\n",
       "      <td>40.0</td>\n",
       "    </tr>\n",
       "    <tr>\n",
       "      <th>25.00</th>\n",
       "      <td>23</td>\n",
       "      <td>8</td>\n",
       "      <td>0</td>\n",
       "      <td>20.0</td>\n",
       "    </tr>\n",
       "    <tr>\n",
       "      <th>53.18</th>\n",
       "      <td>68</td>\n",
       "      <td>4</td>\n",
       "      <td>1</td>\n",
       "      <td>40.0</td>\n",
       "    </tr>\n",
       "    <tr>\n",
       "      <th>51.00</th>\n",
       "      <td>1</td>\n",
       "      <td>11</td>\n",
       "      <td>1</td>\n",
       "      <td>40.0</td>\n",
       "    </tr>\n",
       "    <tr>\n",
       "      <th>39.25</th>\n",
       "      <td>10</td>\n",
       "      <td>7</td>\n",
       "      <td>1</td>\n",
       "      <td>40.0</td>\n",
       "    </tr>\n",
       "  </tbody>\n",
       "</table>\n",
       "<p>6814 rows × 4 columns</p>\n",
       "</div>"
      ],
      "text/plain": [
       "             Job Titles  Department  Full or Part-Time  Typical Hours\n",
       "Hourly Rate                                                          \n",
       "45.90                 0           0                  1           40.0\n",
       "51.00                 1           1                  1           40.0\n",
       "3.00                  2           2                  0           20.0\n",
       "39.25                 3           3                  0           10.0\n",
       "39.25                 3           3                  1           40.0\n",
       "...                 ...         ...                ...            ...\n",
       "45.90                15           7                  1           40.0\n",
       "25.00                23           8                  0           20.0\n",
       "53.18                68           4                  1           40.0\n",
       "51.00                 1          11                  1           40.0\n",
       "39.25                10           7                  1           40.0\n",
       "\n",
       "[6814 rows x 4 columns]"
      ]
     },
     "execution_count": 34,
     "metadata": {},
     "output_type": "execute_result"
    }
   ],
   "source": [
    "# How the 'Hourly Rate' is the response variable\n",
    "# we transform it into the index\n",
    "corr_hourly_df = corr_hourly_df.set_index('Hourly Rate')\n",
    "corr_hourly_df"
   ]
  },
  {
   "cell_type": "code",
   "execution_count": 35,
   "id": "76a42f8e",
   "metadata": {
    "execution": {
     "iopub.execute_input": "2022-06-08T20:39:18.685866Z",
     "iopub.status.busy": "2022-06-08T20:39:18.685288Z",
     "iopub.status.idle": "2022-06-08T20:39:19.102981Z",
     "shell.execute_reply": "2022-06-08T20:39:19.102199Z"
    },
    "papermill": {
     "duration": 0.445361,
     "end_time": "2022-06-08T20:39:19.104833",
     "exception": false,
     "start_time": "2022-06-08T20:39:18.659472",
     "status": "completed"
    },
    "tags": []
   },
   "outputs": [
    {
     "data": {
      "text/plain": [
       "<AxesSubplot:ylabel='Hourly Rate'>"
      ]
     },
     "execution_count": 35,
     "metadata": {},
     "output_type": "execute_result"
    },
    {
     "data": {
      "image/png": "[encoded data removed]",
      "text/plain": [
       "<Figure size 720x360 with 2 Axes>"
      ]
     },
     "metadata": {
      "needs_background": "light"
     },
     "output_type": "display_data"
    }
   ],
   "source": [
    "# Creating the heatmap plot\n",
    "plt.figure(figsize=(10, 5))\n",
    "sns.heatmap(corr_hourly_df, cmap='coolwarm')"
   ]
  },
  {
   "cell_type": "markdown",
   "id": "1c210be1",
   "metadata": {
    "papermill": {
     "duration": 0.02499,
     "end_time": "2022-06-08T20:39:19.154943",
     "exception": false,
     "start_time": "2022-06-08T20:39:19.129953",
     "status": "completed"
    },
    "tags": []
   },
   "source": [
    "With the heatmap aboce we can conclude:\n",
    "\n",
    "* Job Titles column has a considerable influence to the Hourly Rate;\n",
    "* Department column has a tiny influence;\n",
    "* Full or Part-Time columns doesn't have any influence;\n",
    "* Typical Hours column has a considerable influence to the Hourly Rate, but less than the Job Titles one"
   ]
  },
  {
   "cell_type": "markdown",
   "id": "79abb98a",
   "metadata": {
    "papermill": {
     "duration": 0.025266,
     "end_time": "2022-06-08T20:39:19.205998",
     "exception": false,
     "start_time": "2022-06-08T20:39:19.180732",
     "status": "completed"
    },
    "tags": []
   },
   "source": [
    "----\n",
    "\n",
    "<b>Relationship between the Variables</b>"
   ]
  },
  {
   "cell_type": "code",
   "execution_count": 36,
   "id": "2836f906",
   "metadata": {
    "execution": {
     "iopub.execute_input": "2022-06-08T20:39:19.258793Z",
     "iopub.status.busy": "2022-06-08T20:39:19.257966Z",
     "iopub.status.idle": "2022-06-08T20:39:19.263360Z",
     "shell.execute_reply": "2022-06-08T20:39:19.262612Z"
    },
    "papermill": {
     "duration": 0.034438,
     "end_time": "2022-06-08T20:39:19.265696",
     "exception": false,
     "start_time": "2022-06-08T20:39:19.231258",
     "status": "completed"
    },
    "tags": []
   },
   "outputs": [],
   "source": [
    "colors = np.random.randn(len(corr_hourly_df))"
   ]
  },
  {
   "cell_type": "code",
   "execution_count": 37,
   "id": "6440efe6",
   "metadata": {
    "execution": {
     "iopub.execute_input": "2022-06-08T20:39:19.318050Z",
     "iopub.status.busy": "2022-06-08T20:39:19.317671Z",
     "iopub.status.idle": "2022-06-08T20:39:19.643555Z",
     "shell.execute_reply": "2022-06-08T20:39:19.642287Z"
    },
    "papermill": {
     "duration": 0.35441,
     "end_time": "2022-06-08T20:39:19.645786",
     "exception": false,
     "start_time": "2022-06-08T20:39:19.291376",
     "status": "completed"
    },
    "tags": []
   },
   "outputs": [
    {
     "data": {
      "image/png": "[encoded data removed]",
      "text/plain": [
       "<Figure size 432x288 with 1 Axes>"
      ]
     },
     "metadata": {
      "needs_background": "light"
     },
     "output_type": "display_data"
    }
   ],
   "source": [
    "# Relationship between Hourly Rate X Job Title\n",
    "\n",
    "plt.scatter(corr_hourly_df['Job Titles'], corr_hourly_df.index, alpha=0.5, c=colors)\n",
    "\n",
    "plt.xlabel('Job Title Code')\n",
    "plt.ylabel('Hourly Rate - U$')\n",
    "plt.title('Hourly Rate X Job Title')\n",
    "\n",
    "plt.show()"
   ]
  },
  {
   "cell_type": "markdown",
   "id": "a080ea12",
   "metadata": {
    "papermill": {
     "duration": 0.025616,
     "end_time": "2022-06-08T20:39:19.697994",
     "exception": false,
     "start_time": "2022-06-08T20:39:19.672378",
     "status": "completed"
    },
    "tags": []
   },
   "source": [
    "<p>The avg hourly rate is around <b>U$ 40.00</b>, and the two employees that earn around 130~140 dollars could be treated as outliers, but how the datas are real (the two employees and the salary are real two), they aree not ignored in the dataset.</p>"
   ]
  },
  {
   "cell_type": "code",
   "execution_count": 38,
   "id": "d85168fe",
   "metadata": {
    "execution": {
     "iopub.execute_input": "2022-06-08T20:39:19.752043Z",
     "iopub.status.busy": "2022-06-08T20:39:19.751654Z",
     "iopub.status.idle": "2022-06-08T20:39:20.084451Z",
     "shell.execute_reply": "2022-06-08T20:39:20.083293Z"
    },
    "papermill": {
     "duration": 0.362858,
     "end_time": "2022-06-08T20:39:20.086994",
     "exception": false,
     "start_time": "2022-06-08T20:39:19.724136",
     "status": "completed"
    },
    "tags": []
   },
   "outputs": [
    {
     "data": {
      "image/png": "[encoded data removed]",
      "text/plain": [
       "<Figure size 432x288 with 1 Axes>"
      ]
     },
     "metadata": {
      "needs_background": "light"
     },
     "output_type": "display_data"
    }
   ],
   "source": [
    "# Relationship between Hourly Rate X Department\n",
    "\n",
    "plt.scatter(corr_hourly_df['Department'], corr_hourly_df.index, alpha=0.5, c=colors)\n",
    "\n",
    "plt.xlabel('Department')\n",
    "plt.ylabel('Hourly Rate - U$')\n",
    "plt.title('Hourly Rate X Department')\n",
    "\n",
    "plt.show()"
   ]
  },
  {
   "cell_type": "markdown",
   "id": "2be01425",
   "metadata": {
    "papermill": {
     "duration": 0.026327,
     "end_time": "2022-06-08T20:39:20.140488",
     "exception": false,
     "start_time": "2022-06-08T20:39:20.114161",
     "status": "completed"
    },
    "tags": []
   },
   "source": [
    "<p>This is the same situation at the Annual Salary: we have employees working at the same department, but with different salary values.</p>"
   ]
  },
  {
   "cell_type": "code",
   "execution_count": 39,
   "id": "86617ae3",
   "metadata": {
    "execution": {
     "iopub.execute_input": "2022-06-08T20:39:20.196465Z",
     "iopub.status.busy": "2022-06-08T20:39:20.196082Z",
     "iopub.status.idle": "2022-06-08T20:39:20.514314Z",
     "shell.execute_reply": "2022-06-08T20:39:20.513312Z"
    },
    "papermill": {
     "duration": 0.348641,
     "end_time": "2022-06-08T20:39:20.516472",
     "exception": false,
     "start_time": "2022-06-08T20:39:20.167831",
     "status": "completed"
    },
    "tags": []
   },
   "outputs": [
    {
     "data": {
      "image/png": "[encoded data removed]",
      "text/plain": [
       "<Figure size 432x288 with 1 Axes>"
      ]
     },
     "metadata": {
      "needs_background": "light"
     },
     "output_type": "display_data"
    }
   ],
   "source": [
    "# Relationship between Hourly Rate X Typical Hours\n",
    "\n",
    "plt.scatter(corr_hourly_df['Typical Hours'], corr_hourly_df.index, alpha=0.5, c=colors)\n",
    "\n",
    "plt.xlabel('Typical Hours')\n",
    "plt.ylabel('Hourly Rate - U$')\n",
    "plt.title('Hourly Rate X Typical Hours')\n",
    "\n",
    "plt.show()"
   ]
  },
  {
   "cell_type": "markdown",
   "id": "d8771a2a",
   "metadata": {
    "papermill": {
     "duration": 0.027034,
     "end_time": "2022-06-08T20:39:20.570889",
     "exception": false,
     "start_time": "2022-06-08T20:39:20.543855",
     "status": "completed"
    },
    "tags": []
   },
   "source": [
    "<p>With this plot, we can assume that the most employees work around <b>40 hours</b> per week.</p>"
   ]
  },
  {
   "cell_type": "markdown",
   "id": "65ae1ba6",
   "metadata": {
    "execution": {
     "iopub.execute_input": "2022-06-05T23:46:14.632232Z",
     "iopub.status.busy": "2022-06-05T23:46:14.63178Z",
     "iopub.status.idle": "2022-06-05T23:46:14.638905Z",
     "shell.execute_reply": "2022-06-05T23:46:14.638025Z",
     "shell.execute_reply.started": "2022-06-05T23:46:14.632195Z"
    },
    "papermill": {
     "duration": 0.026951,
     "end_time": "2022-06-08T20:39:20.625278",
     "exception": false,
     "start_time": "2022-06-08T20:39:20.598327",
     "status": "completed"
    },
    "tags": []
   },
   "source": [
    "----\n",
    "\n",
    "<h1 style=\"color:blue\">2 - Saving the Processed Data</h1>\n",
    "\n",
    "In order to don't have the need to process the datas every time we need to get the coorrelatioon of thee datas, let's save the dataframes `corr_salary_df` and `corr_hourly_df` in two different csv files.\n",
    "\n",
    "But before, how the `Full or Part-Time` column doesn't have influence to the `Annual Salary` and `Hourly Rate` variables, let's drop out this column  from both datasets."
   ]
  },
  {
   "cell_type": "code",
   "execution_count": 40,
   "id": "9e5dda98",
   "metadata": {
    "execution": {
     "iopub.execute_input": "2022-06-08T20:39:20.682167Z",
     "iopub.status.busy": "2022-06-08T20:39:20.681150Z",
     "iopub.status.idle": "2022-06-08T20:39:20.688295Z",
     "shell.execute_reply": "2022-06-08T20:39:20.687477Z"
    },
    "papermill": {
     "duration": 0.037559,
     "end_time": "2022-06-08T20:39:20.690407",
     "exception": false,
     "start_time": "2022-06-08T20:39:20.652848",
     "status": "completed"
    },
    "tags": []
   },
   "outputs": [],
   "source": [
    "# Dropping out 'Full or Part-Time' column from thee correlation datasets\n",
    "\n",
    "corr_salary_df = corr_salary_df.iloc[:, 0:2]\n",
    "corr_hourly_df = corr_hourly_df.drop(corr_hourly_df.iloc[:, 2:3], axis=1)"
   ]
  },
  {
   "cell_type": "code",
   "execution_count": 41,
   "id": "bad0c8c4",
   "metadata": {
    "execution": {
     "iopub.execute_input": "2022-06-08T20:39:20.747365Z",
     "iopub.status.busy": "2022-06-08T20:39:20.746968Z",
     "iopub.status.idle": "2022-06-08T20:39:20.869232Z",
     "shell.execute_reply": "2022-06-08T20:39:20.868464Z"
    },
    "papermill": {
     "duration": 0.153494,
     "end_time": "2022-06-08T20:39:20.871487",
     "exception": false,
     "start_time": "2022-06-08T20:39:20.717993",
     "status": "completed"
    },
    "tags": []
   },
   "outputs": [],
   "source": [
    "# Saving the two datasets into two csv files\n",
    "\n",
    "corr_salary_df.to_csv('Transformed Monthly Salary.csv')\n",
    "corr_hourly_df.to_csv('Transformed Hourly Salary.csv')"
   ]
  },
  {
   "cell_type": "markdown",
   "id": "018f8886",
   "metadata": {
    "papermill": {
     "duration": 0.027536,
     "end_time": "2022-06-08T20:39:20.926577",
     "exception": false,
     "start_time": "2022-06-08T20:39:20.899041",
     "status": "completed"
    },
    "tags": []
   },
   "source": [
    "----\n",
    "\n",
    "<h2 style=\"color:blue\">Wrapping up</h2>\n",
    "\n",
    "Pheww, what a job!!! This is the end of the notebook. In the next one I will create a report to summarize everything we learned analysing this dataset and after that we will create two machine learning algorithms:\n",
    "\n",
    "* one to predict the Annual Salary for Monthly/Salary employees\n",
    "* another one to predict the Hourly Rate for Hourly employees\n",
    "\n",
    "See ya!! 👋👋\n",
    "\n",
    "----\n",
    "\n",
    "<br>\n",
    "\n",
    "<i>Next Notebook:</i> <a href=\"https://www.kaggle.com/code/dsfelix/2-2-employees-annual-salary-chicago-report\">2/2 Employees' Annual Salary Chicago Report</a>"
   ]
  }
 ],
 "metadata": {
  "kernelspec": {
   "display_name": "Python 3",
   "language": "python",
   "name": "python3"
  },
  "language_info": {
   "codemirror_mode": {
    "name": "ipython",
    "version": 3
   },
   "file_extension": ".py",
   "mimetype": "text/x-python",
   "name": "python",
   "nbconvert_exporter": "python",
   "pygments_lexer": "ipython3",
   "version": "3.7.12"
  },
  "papermill": {
   "default_parameters": {},
   "duration": 20.144678,
   "end_time": "2022-06-08T20:39:21.776413",
   "environment_variables": {},
   "exception": null,
   "input_path": "__notebook__.ipynb",
   "output_path": "__notebook__.ipynb",
   "parameters": {},
   "start_time": "2022-06-08T20:39:01.631735",
   "version": "2.3.4"
  }
 },
 "nbformat": 4,
 "nbformat_minor": 5
}
